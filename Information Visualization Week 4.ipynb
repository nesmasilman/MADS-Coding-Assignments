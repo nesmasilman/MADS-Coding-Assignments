{
 "cells": [
  {
   "cell_type": "markdown",
   "metadata": {},
   "source": [
    "Before you turn this problem in, make sure everything runs as expected. First, **restart the kernel** (in the menubar, select Kernel$\\rightarrow$Restart) and then **run all cells** (in the menubar, select Cell$\\rightarrow$Run All).\n",
    "\n",
    "Make sure you fill in any place that says `YOUR CODE HERE` or \"YOUR ANSWER HERE\", as well as your name and collaborators below:"
   ]
  },
  {
   "cell_type": "code",
   "execution_count": 1,
   "metadata": {},
   "outputs": [],
   "source": [
    "NAME = \"Nesma Silman\"\n",
    "COLLABORATORS = \"\""
   ]
  },
  {
   "cell_type": "markdown",
   "metadata": {},
   "source": [
    "---"
   ]
  },
  {
   "cell_type": "markdown",
   "metadata": {},
   "source": [
    "# Information Visualization I \n",
    "## School of Information, University of Michigan\n",
    "\n",
    "## Week 4: \n",
    "- Data Types\n",
    "- Design\n",
    "\n",
    "## Assignment Overview\n",
    "### This assignment's objectives include:\n",
    "\n",
    "- Review, reflect on, and apply the concepts of encoding different data types. Given a visualization, justify different encodings for certain datatypes.\n",
    "- Review, reflect on, and apply good design decisions in a visualization. Given a visualization critique design decisions according to principles like Tufte's data-ink ratio, graphical integrity, chart junk, Munzner's rules of thumb, etc.\n",
    "\n",
    "<img src=\"assets/data-ink-ratio.png\" alt=\"Drawing\" style=\"width: 500px;\"/>\n",
    "<p style=\"text-align: center;\"> Same information, less ink </p>\n",
    "\n",
    "- Recreate, propose new and alternative visualizations using [Altair](https://altair-viz.github.io/) \n",
    "\n",
    "### The total score of this assignment will be 100 points consisting of:\n",
    "- Case study reflection: The Mayweather-McGregor Fight, As Told Through Emojis (30 points)\n",
    "- Altair programming exercise (70 points)\n",
    "\n",
    "\n",
    "### Resources:\n",
    "- Article by [Five Thirty Eight](https://fivethirtyeight.com) available  [online](https://fivethirtyeight.com/features/the-mayweather-mcgregor-fight-as-told-through-emojis/) (Hickey, Koeze, Dottle, Wezerek 2017)  \n",
    "- Datasets from Five Thirty Eight, we have download a subset of these datasets to [./assets](assets) but the original can be found on [Five Thirty Eight Mayweather vs McGregor](https://github.com/fivethirtyeight/data/tree/master/mayweather-mcgregor)\n",
    "\n",
    "### A note about autograding\n",
    "Because there are many ways to generate the correct visualization, we will not be using the autograder for this assignment. Compare your result to the provided samples. Try to get as close to our provided solution as possible."
   ]
  },
  {
   "cell_type": "markdown",
   "metadata": {},
   "source": [
    "## Part 1. Data Types & Design (30 points)\n",
    "Read the article published in Five Thirty Eight [The Mayweather-McGregor Fight, As Told Through Emojis](https://fivethirtyeight.com/features/the-mayweather-mcgregor-fight-as-told-through-emojis/) and answer the following questions:\n"
   ]
  },
  {
   "cell_type": "markdown",
   "metadata": {},
   "source": [
    "### 1.1 List the different data types in the following visualizations and their encodings (10 points)\n",
    "For each chart, describe the variable name, type, and encoding (e.g., weight, quantitative, bar length)\n",
    "<img src=\"assets/chart_1.png\" alt=\"Drawing\" style=\"width: 250px;\"/>\n",
    "<img src=\"assets/chart_2.png\" alt=\"Drawing\" style=\"width: 250px;\"/>"
   ]
  },
  {
   "cell_type": "markdown",
   "metadata": {},
   "source": [
    "#### For the \"emoji bars\" visualization, This chart has 3 variables,\n",
    "\n",
    "1- (Emoji, Categorical (Nominal), Position)\n",
    "\n",
    "2- (Percent of being used, Quantitative, bar length)\n",
    "\n",
    "3- (Rank, Ordinal, Position)"
   ]
  },
  {
   "cell_type": "markdown",
   "metadata": {
    "deletable": false,
    "nbgrader": {
     "checksum": "39c3d4ea2dfb2e1df1128d67c77611bd",
     "grade": true,
     "grade_id": "cell-c5bf343a4cf7dab9",
     "locked": false,
     "points": 0,
     "schema_version": 1,
     "solution": true
    }
   },
   "source": [
    "#### For \"Irish pride vs. The Money Team\", This chart has 3 variables,\n",
    "\n",
    "1- (Rolling average # of uses of emoji, Quantitative, Position)\n",
    "\n",
    "2- (emoji set (team), Categorical, Color)\n",
    "\n",
    "3- (Time during the match, Quantitative, Position)"
   ]
  },
  {
   "cell_type": "markdown",
   "metadata": {},
   "source": [
    "### 1.2 Sketch a visualization with an alternative encoding for one of the charts above. Compare your solution to the original. (10 points)\n",
    "You can hand sketch or create the solution digitally. Please upload an image or screenshot. Your data doesn't need to match perfectly. Reflect on the differences in terms of perception/cognition and design principles as appropriate."
   ]
  },
  {
   "cell_type": "markdown",
   "metadata": {
    "deletable": false,
    "nbgrader": {
     "checksum": "8f5ef95650bb69a533009d9c2ffdd3eb",
     "grade": true,
     "grade_id": "cell-1d7c7601bad19be0",
     "locked": false,
     "points": 0,
     "schema_version": 1,
     "solution": true
    }
   },
   "source": [
    "![\"Drowing\"](assets/vis41.png)"
   ]
  },
  {
   "attachments": {},
   "cell_type": "markdown",
   "metadata": {},
   "source": [
    "I created the emoji bars visualization using Altair. I used the emojis as scatter plot marks to represent the top 10 emojis' % of being used. Talking about expressiveness, I believe both the original vis. and my vis. have the same level of expressiveness.\n",
    "\n",
    "Regarding the effectiveness, I think my visualization might be better because having the emoji shapes in different positions relative to each other (higher/lower) would be easier in comparison and for being more memorable, unlike the original chart in which the emoji shape is put outside the chart, so people need to look at the emoji first and then move their eyes towards the bar length to know the value, this might be less effective. For example, the \"tears of joy\" emoji will be  memorable for readers because it is located in the highest point. \n",
    "\n",
    "I also added text above the emoji to clarify the exact % to the reader, and i left the x-labels as ranks to make it easy for readers to spot the exact rank for any emoji.\n",
    "\n",
    "One thing i believe is negative about my visualization is that the y-axis values should be in % format since the text values used are in %.\n",
    "\n",
    "In terms of design principles, we can maximize the data-ink ratio by eliminating any un-needed elements, like writing the values of ranks on x-Axis (the positions of emojis on x-axis already says this information), and also removing the text with the % since this could be known by looking at the y-axis values. However, I believe doing this will make the chart less effective, because if i wanted to know the rank of any emoji without having the ranks written I would have to count till i reach it, and also knowing the % might be hard with the absence of horizontal gridlines, especially if the emojis % are very close like the last 4 ones."
   ]
  },
  {
   "cell_type": "markdown",
   "metadata": {},
   "source": [
    "### 1.3 Use one of the design principles reviewed in class (Tufte's data-ink ratio, graphical integrity, chart junk, etc. ) to critique the following visualization (10 points)\n",
    "Describe pros and cons of the visualization relative to these principles. If the image violates the principle, reflect on why this is might be ok or not.\n",
    "\n",
    "<img src=\"assets/boxing_vis2.jpg\" alt=\"Drawing\" style=\"width: 500px;\"/>\n",
    "<p style=\"text-align: center;\"> http://vizzingdata.blogspot.com/2017/01/muhammad-ali-career-dataviz.html</p>"
   ]
  },
  {
   "cell_type": "markdown",
   "metadata": {
    "deletable": false,
    "nbgrader": {
     "checksum": "7b9873cd9c5dea9442a6c0d899fac2d1",
     "grade": true,
     "grade_id": "cell-459664b33e6e8d59",
     "locked": false,
     "points": 0,
     "schema_version": 1,
     "solution": true
    }
   },
   "source": [
    "Considering Tufti's principle of \"Chart Junk\", if we are evaluating this visualization in terms of the rule (thou shalt not use chart junk), then we would find that this rule is not applied here. Because the chart uses extra ink to add data that might be un-needed, such as the 2 photos of Ali in the bottom left and in the middle of the pie chart, and also the picture of the double gloves beside his name and in the center of the pie (we could have used only 1 glove per color inside the pie to write the totals). However, in my opinion I believe that adding these pictures was useful because it catches the eyes of readers and would make them remember the chart content easily. Additionally, the picture in the bottom left of Ali beating a player would really give an impression of how legendary he was (My only concern on this photo is that it might be biased against this player in the photo in case he can be identified, and also it might be offensive for the players who were defeated by Ali).\n",
    "\n",
    "It is also noticed that the chart creator used 2 shades of green & red colors. The light shade to make it easy to write the match competitor name, and the darker one is easier to distinguish different matches and for being more visible for people having problem with light colors. Although this point might also be considered extra un-needed junk because we could have used only 1 shade but i also find that using the 2 shades makes the chart more attractive and memorable."
   ]
  },
  {
   "cell_type": "markdown",
   "metadata": {},
   "source": [
    "## Part 2. Altair programming exercise (70 points)\n",
    "We have provided you with some code and parts of the article [The Mayweather-McGregor Fight, As Told Through Emojis](https://fivethirtyeight.com/features/the-mayweather-mcgregor-fight-as-told-through-emojis/). This article is based on the dataset:\n",
    "\n",
    "1. [tweets](assets/tweets.csv) Created by FiveThirtyEight with the Twitter Streaming API containing a sample of all the tweets that matched the search terms: #MayMac, #MayweatherMcGregor, #MayweatherVMcGregor, #MayweatherVsMcGregor, #McGregor and #Mayweather collected between 12:05 a.m. and 1:15 a.m. EDT, 12,118 that had emojis. Available [on github](https://github.com/fivethirtyeight/data/tree/master/mayweather-mcgregor)\n",
    "\n",
    "To earn points for this assignment, you must:\n",
    "\n",
    "- Recreate the visualizations in the article (replace the images in the article with a code cell that creates a visualization). There are four visualizations to make. For the 2nd, 3rd, and 4th, we provide some example code to get the data into the right structure. The points for each visualization are distributed: (30 points: 9 (1st problem) + 7 (each of 2nd, 3rd & 4th)).\n",
    "\n",
    "    - _Partial credit can be granted for each visualization (up to 5 points) if you provide the grammar of graphics description of the visualization without a fully implemented Altair solution_\n",
    "\n",
    "- Propose one alternative visualization for one of the 4 article visualizations. Add a short paragraph describing why your visualization is better in terms of Design / Variable types encoding. (20 points/ 15 points plot + 5 justification)\n",
    "\n",
    "\n",
    "- Propose a new visualization to complement a part of the article. Add a short paragraph justifying your decisions in terms of Design / Variable types encoding.  (20 points/ 15 points plot + 5 justification)\n",
    "\n",
    "### Before you begin\n",
    "*IMPORTANT BROWSER ISSUE*: For some non-ES6 Browsers there are problems with date/time conversions (see [this](https://altair-viz.github.io/user_guide/times_and_dates.html)). If things aren't working try something like Chrome for this assignment.\n",
    "\n",
    "*IMPORTANT DATA ISSUE*: There are some differences in the data that 538 used and what we have. This will cause some issues to how things are normalized. Things should look very similar, but you may find, for example, that the scale of tweets when you normalize is different than the original figure. This is fine.\n",
    "\n",
    "*IMPORTANT STYLING/ANNOTATION* NOTE: Part of this assignment is to get styling and annotation to be as close to 538 as possible. Altair and Vega-Lite aren't super helpful for annotation purposes. You will find that you need to do things like layering text and the arrows (hint: see [here](https://github.com/altair-viz/altair/issues/1721)). What I usually do in practice (when I need the visualization to look good and have annotation) is get things as close to how I want them to look, export the image as an SVG and then load it into [Figma](https://www.figma.com/), [InkScape](https://inkscape.org/), or [Adobe Illustrator](https://www.adobe.com/products/illustrator.html). You can see \"reasonably close approximations\" in the examples we provide. Those have been generated using nothing but Altair."
   ]
  },
  {
   "cell_type": "code",
   "execution_count": 2,
   "metadata": {},
   "outputs": [],
   "source": [
    "# start with the setup\n",
    "import pandas as pd\n",
    "import altair as alt\n",
    "import numpy as np"
   ]
  },
  {
   "cell_type": "code",
   "execution_count": 3,
   "metadata": {},
   "outputs": [
    {
     "data": {
      "text/plain": [
       "RendererRegistry.enable('default')"
      ]
     },
     "execution_count": 3,
     "metadata": {},
     "output_type": "execute_result"
    }
   ],
   "source": [
    "# enable correct rendering\n",
    "alt.renderers.enable('default')"
   ]
  },
  {
   "cell_type": "code",
   "execution_count": 4,
   "metadata": {},
   "outputs": [
    {
     "data": {
      "text/plain": [
       "DataTransformerRegistry.enable('json')"
      ]
     },
     "execution_count": 4,
     "metadata": {},
     "output_type": "execute_result"
    }
   ],
   "source": [
    "# uses intermediate json files to speed things up\n",
    "alt.data_transformers.enable('json')"
   ]
  },
  {
   "cell_type": "code",
   "execution_count": 5,
   "metadata": {},
   "outputs": [],
   "source": [
    "# we're going to do some setup here in anticipation of needing the data in \n",
    "# a specific format. We moved it all up here so everything is in one place.\n",
    "\n",
    "# load the tweets\n",
    "tweets = pd.read_csv('assets/tweets.csv')\n",
    "\n",
    "# we're going to process the data in a couple of ways\n",
    "# first, we want to know how many emojis are in each tweet so we'll create a new column\n",
    "# that counts them\n",
    "tweets['emojis'] = tweets['text'].str.findall(r'[^\\w\\s.,\"@\\'?/#!$%\\^&\\*;:{}=\\-_`~()\\U0001F1E6-\\U0001F1FF]').str.len()\n",
    "\n",
    "# next, there are a few specific emojis that we care about, we're going to create\n",
    "# a column for each one and indicate how many times it showed up in the tweet\n",
    "boxer_emojis = ['☘️','🇮🇪','🍀','💸','🤑','💰','💵','😴','😂','🤣','🥊','👊','👏','🇮🇪','💪','🔥','😭','💰']\n",
    "for emoji in boxer_emojis:\n",
    "    # here's a different way to get the counts\n",
    "    tweets[emoji] = tweets.text.str.count(emoji)\n",
    "    \n",
    "# For the irish pride vs the money team we want the numer \n",
    "# of either ☘️, 🇮🇪 or 🍀 and 💸, 🤑, 💰 or 💵 for each\n",
    "tweets['irish_pride'] = tweets['☘️'] + tweets['🇮🇪'] + tweets['🍀']\n",
    "tweets['money_team'] = tweets['💸'] + tweets['🤑'] + tweets['💰'] +  tweets['💵']"
   ]
  },
  {
   "cell_type": "code",
   "execution_count": 6,
   "metadata": {},
   "outputs": [
    {
     "data": {
      "text/html": [
       "<div>\n",
       "<style scoped>\n",
       "    .dataframe tbody tr th:only-of-type {\n",
       "        vertical-align: middle;\n",
       "    }\n",
       "\n",
       "    .dataframe tbody tr th {\n",
       "        vertical-align: top;\n",
       "    }\n",
       "\n",
       "    .dataframe thead th {\n",
       "        text-align: right;\n",
       "    }\n",
       "</style>\n",
       "<table border=\"1\" class=\"dataframe\">\n",
       "  <thead>\n",
       "    <tr style=\"text-align: right;\">\n",
       "      <th></th>\n",
       "      <th>created_at</th>\n",
       "      <th>emojis</th>\n",
       "      <th>id</th>\n",
       "      <th>link</th>\n",
       "      <th>retweeted</th>\n",
       "      <th>screen_name</th>\n",
       "      <th>text</th>\n",
       "      <th>☘️</th>\n",
       "      <th>🇮🇪</th>\n",
       "      <th>🍀</th>\n",
       "      <th>...</th>\n",
       "      <th>😂</th>\n",
       "      <th>🤣</th>\n",
       "      <th>🥊</th>\n",
       "      <th>👊</th>\n",
       "      <th>👏</th>\n",
       "      <th>💪</th>\n",
       "      <th>🔥</th>\n",
       "      <th>😭</th>\n",
       "      <th>irish_pride</th>\n",
       "      <th>money_team</th>\n",
       "    </tr>\n",
       "  </thead>\n",
       "  <tbody>\n",
       "    <tr>\n",
       "      <th>0</th>\n",
       "      <td>2017-08-27 00:05:34</td>\n",
       "      <td>1</td>\n",
       "      <td>901656910939770881</td>\n",
       "      <td>https://twitter.com/statuses/901656910939770881</td>\n",
       "      <td>False</td>\n",
       "      <td>aaLiysr</td>\n",
       "      <td>Ringe çıkmadan ateş etmeye başladı 😃#McGregor ...</td>\n",
       "      <td>0</td>\n",
       "      <td>0</td>\n",
       "      <td>0</td>\n",
       "      <td>...</td>\n",
       "      <td>0</td>\n",
       "      <td>0</td>\n",
       "      <td>0</td>\n",
       "      <td>0</td>\n",
       "      <td>0</td>\n",
       "      <td>0</td>\n",
       "      <td>0</td>\n",
       "      <td>0</td>\n",
       "      <td>0</td>\n",
       "      <td>0</td>\n",
       "    </tr>\n",
       "    <tr>\n",
       "      <th>1</th>\n",
       "      <td>2017-08-27 00:05:35</td>\n",
       "      <td>5</td>\n",
       "      <td>901656917281574912</td>\n",
       "      <td>https://twitter.com/statuses/901656917281574912</td>\n",
       "      <td>False</td>\n",
       "      <td>zulmafrancozaf</td>\n",
       "      <td>😲😲😲😲😲 @lalylourbet2 https://t.co/ERUGHhQINE</td>\n",
       "      <td>0</td>\n",
       "      <td>0</td>\n",
       "      <td>0</td>\n",
       "      <td>...</td>\n",
       "      <td>0</td>\n",
       "      <td>0</td>\n",
       "      <td>0</td>\n",
       "      <td>0</td>\n",
       "      <td>0</td>\n",
       "      <td>0</td>\n",
       "      <td>0</td>\n",
       "      <td>0</td>\n",
       "      <td>0</td>\n",
       "      <td>0</td>\n",
       "    </tr>\n",
       "    <tr>\n",
       "      <th>2</th>\n",
       "      <td>2017-08-27 00:05:35</td>\n",
       "      <td>2</td>\n",
       "      <td>901656917105369088</td>\n",
       "      <td>https://twitter.com/statuses/901656917105369088</td>\n",
       "      <td>False</td>\n",
       "      <td>Adriana11D</td>\n",
       "      <td>🇮🇪🇮🇪🇮🇪 💪💪#MayweathervMcgregor</td>\n",
       "      <td>0</td>\n",
       "      <td>3</td>\n",
       "      <td>0</td>\n",
       "      <td>...</td>\n",
       "      <td>0</td>\n",
       "      <td>0</td>\n",
       "      <td>0</td>\n",
       "      <td>0</td>\n",
       "      <td>0</td>\n",
       "      <td>2</td>\n",
       "      <td>0</td>\n",
       "      <td>0</td>\n",
       "      <td>3</td>\n",
       "      <td>0</td>\n",
       "    </tr>\n",
       "    <tr>\n",
       "      <th>3</th>\n",
       "      <td>2017-08-27 00:05:35</td>\n",
       "      <td>2</td>\n",
       "      <td>901656917747142657</td>\n",
       "      <td>https://twitter.com/statuses/901656917747142657</td>\n",
       "      <td>False</td>\n",
       "      <td>Nathan_Caro_</td>\n",
       "      <td>Cest partit #MayweatherMcGregor 💪🏿</td>\n",
       "      <td>0</td>\n",
       "      <td>0</td>\n",
       "      <td>0</td>\n",
       "      <td>...</td>\n",
       "      <td>0</td>\n",
       "      <td>0</td>\n",
       "      <td>0</td>\n",
       "      <td>0</td>\n",
       "      <td>0</td>\n",
       "      <td>1</td>\n",
       "      <td>0</td>\n",
       "      <td>0</td>\n",
       "      <td>0</td>\n",
       "      <td>0</td>\n",
       "    </tr>\n",
       "    <tr>\n",
       "      <th>4</th>\n",
       "      <td>2017-08-27 00:05:35</td>\n",
       "      <td>2</td>\n",
       "      <td>901656916828594177</td>\n",
       "      <td>https://twitter.com/statuses/901656916828594177</td>\n",
       "      <td>False</td>\n",
       "      <td>sahouraxox</td>\n",
       "      <td>Low key feeling bad for ppl who payed to watch...</td>\n",
       "      <td>0</td>\n",
       "      <td>0</td>\n",
       "      <td>0</td>\n",
       "      <td>...</td>\n",
       "      <td>0</td>\n",
       "      <td>2</td>\n",
       "      <td>0</td>\n",
       "      <td>0</td>\n",
       "      <td>0</td>\n",
       "      <td>0</td>\n",
       "      <td>0</td>\n",
       "      <td>0</td>\n",
       "      <td>0</td>\n",
       "      <td>0</td>\n",
       "    </tr>\n",
       "  </tbody>\n",
       "</table>\n",
       "<p>5 rows × 25 columns</p>\n",
       "</div>"
      ],
      "text/plain": [
       "            created_at  emojis                  id  \\\n",
       "0  2017-08-27 00:05:34       1  901656910939770881   \n",
       "1  2017-08-27 00:05:35       5  901656917281574912   \n",
       "2  2017-08-27 00:05:35       2  901656917105369088   \n",
       "3  2017-08-27 00:05:35       2  901656917747142657   \n",
       "4  2017-08-27 00:05:35       2  901656916828594177   \n",
       "\n",
       "                                              link  retweeted     screen_name  \\\n",
       "0  https://twitter.com/statuses/901656910939770881      False         aaLiysr   \n",
       "1  https://twitter.com/statuses/901656917281574912      False  zulmafrancozaf   \n",
       "2  https://twitter.com/statuses/901656917105369088      False      Adriana11D   \n",
       "3  https://twitter.com/statuses/901656917747142657      False    Nathan_Caro_   \n",
       "4  https://twitter.com/statuses/901656916828594177      False      sahouraxox   \n",
       "\n",
       "                                                text  ☘️  🇮🇪  🍀  ...  😂  🤣  🥊  \\\n",
       "0  Ringe çıkmadan ateş etmeye başladı 😃#McGregor ...   0   0  0  ...  0  0  0   \n",
       "1        😲😲😲😲😲 @lalylourbet2 https://t.co/ERUGHhQINE   0   0  0  ...  0  0  0   \n",
       "2                      🇮🇪🇮🇪🇮🇪 💪💪#MayweathervMcgregor   0   3  0  ...  0  0  0   \n",
       "3                 Cest partit #MayweatherMcGregor 💪🏿   0   0  0  ...  0  0  0   \n",
       "4  Low key feeling bad for ppl who payed to watch...   0   0  0  ...  0  2  0   \n",
       "\n",
       "   👊  👏  💪  🔥  😭  irish_pride  money_team  \n",
       "0  0  0  0  0  0            0           0  \n",
       "1  0  0  0  0  0            0           0  \n",
       "2  0  0  2  0  0            3           0  \n",
       "3  0  0  1  0  0            0           0  \n",
       "4  0  0  0  0  0            0           0  \n",
       "\n",
       "[5 rows x 25 columns]"
      ]
     },
     "execution_count": 6,
     "metadata": {},
     "output_type": "execute_result"
    }
   ],
   "source": [
    "# uncomment to see what's inside\n",
    "tweets.head()"
   ]
  },
  {
   "cell_type": "markdown",
   "metadata": {},
   "source": [
    "# The Mayweather-McGregor Fight, As Told Through Emojis"
   ]
  },
  {
   "cell_type": "markdown",
   "metadata": {},
   "source": [
    " ### <font color=grey>We laughed, cried and cried some more. </font>"
   ]
  },
  {
   "cell_type": "markdown",
   "metadata": {},
   "source": [
    "_Original article available at [FiveThirtyEight](https://fivethirtyeight.com/features/the-mayweather-mcgregor-fight-as-told-through-emojis/)_\n",
    "\n",
    "By [Dhrumil Mehta](https://fivethirtyeight.com/contributors/dhrumil-mehta/), [Oliver Roeder](https://fivethirtyeight.com/contributors/oliver-roeder/) and [Rachael Dottle](https://fivethirtyeight.com/contributors/rachael-dottle/)\n",
    "\n",
    "Filed under [Mayweather vs. McGregor](https://fivethirtyeight.com/tag/mayweather-vs-mcgregor/)\n",
    "\n",
    "Get the data on [GitHub](https://github.com/fivethirtyeight/data/tree/master/mayweather-mcgregor)"
   ]
  },
  {
   "cell_type": "markdown",
   "metadata": {},
   "source": [
    "For the nearly 15,000 people in Las Vegas’s T-Mobile Arena on Saturday night, and the millions more huddled around TVs across the world, the Floyd Mayweather–Conor McGregor fight was a roller coaster of emotions. They were anxious as pay-per-view [technical problems](http://www.espn.com/boxing/story/_/id/20469815/floyd-mayweather-conor-mcgregor-delay-ppv-problems) pushed back the fight’s start. They were full of anticipation when the combatants finally emerged after months of hype. They were surprised when McGregor held his own, or seemed to hold his own, for a couple of rounds. They were thrilled when Mayweather finally started fighting. And they were exhausted by the end.\n",
    "\n",
    "How do we know all this? Emojis."
   ]
  },
  {
   "cell_type": "markdown",
   "metadata": {},
   "source": [
    "We were monitoring Twitter on fight night, pulling tweets that contained fight-related hashtags — those that included #MayweatherVsMcgregor, for example. In the end, we collected about 200,000 fight-related tweets, of which more than 12,000 contained emojis. (To be clear, that’s a small enough sample that this emojinalysis might not make it through peer review.)<sup>1<sup>"
   ]
  },
  {
   "cell_type": "markdown",
   "metadata": {},
   "source": [
    "> <font color=grey> 1. We used the [Twitter Streaming API](https://dev.twitter.com/streaming/overview) which provides a sample of all the tweets that matched our search terms: #MayMac, #MayweatherMcGregor, #MayweatherVMcGregor, #MayweatherVsMcGregor, #McGregor and #Mayweather. Of the 197,989 tweets we collected between 12:05 a.m. and 1:15 a.m. EDT, 12,118 had emojis.</font>"
   ]
  },
  {
   "cell_type": "markdown",
   "metadata": {},
   "source": [
    "<img src=\"assets/chart_1.png\" alt=\"Drawing\" style=\"width: 250px;\"/>\n",
    "\n",
    "** Homework note, construct your solution to this chart in the cell below. Click [here](assets/altair_chart1.png) to see a sample output from Altair."
   ]
  },
  {
   "cell_type": "code",
   "execution_count": 7,
   "metadata": {},
   "outputs": [],
   "source": [
    "# We'll help you out with a table that has the percentages for each emoji\n",
    "\n",
    "# dictionary that will map emoji to percentage\n",
    "percentages = {}  \n",
    "\n",
    "# find total emojies\n",
    "total = tweets['emojis'].sum() \n",
    "\n",
    "# for each emoji, figure out how prevalent it is\n",
    "emojis = ['😂','🤣','🥊','👊','👏','🇮🇪','💪','🔥','😭','💰']\n",
    "for emoji in emojis:  \n",
    "    percentages[emoji] = [round(tweets[emoji].sum() / total * 100,1)]\n",
    "    \n",
    "# create a data frame to hold this from the dictionary\n",
    "percentages_df = pd.DataFrame.from_dict(percentages).T\n",
    "\n",
    "# sort the dictionary \n",
    "percentages_df = percentages_df.sort_values(by=[0], ascending = False).reset_index()\n",
    "\n",
    "# rename the columns\n",
    "percentages_df = percentages_df.rename(columns={'index':'EMOJI', 0: 'PERCENT'})\n",
    "\n",
    "# create a rank column based on position in the ordered list\n",
    "percentages_df['rank'] = pd.Index(list(range(1,11)))\n",
    "\n",
    "# modify the text\n",
    "percentages_df['PERCENT_TEXT'] = percentages_df['PERCENT'].astype('str') + ' %'"
   ]
  },
  {
   "cell_type": "code",
   "execution_count": 8,
   "metadata": {},
   "outputs": [
    {
     "data": {
      "text/html": [
       "<div>\n",
       "<style scoped>\n",
       "    .dataframe tbody tr th:only-of-type {\n",
       "        vertical-align: middle;\n",
       "    }\n",
       "\n",
       "    .dataframe tbody tr th {\n",
       "        vertical-align: top;\n",
       "    }\n",
       "\n",
       "    .dataframe thead th {\n",
       "        text-align: right;\n",
       "    }\n",
       "</style>\n",
       "<table border=\"1\" class=\"dataframe\">\n",
       "  <thead>\n",
       "    <tr style=\"text-align: right;\">\n",
       "      <th></th>\n",
       "      <th>EMOJI</th>\n",
       "      <th>PERCENT</th>\n",
       "      <th>rank</th>\n",
       "      <th>PERCENT_TEXT</th>\n",
       "    </tr>\n",
       "  </thead>\n",
       "  <tbody>\n",
       "    <tr>\n",
       "      <th>0</th>\n",
       "      <td>😂</td>\n",
       "      <td>23.1</td>\n",
       "      <td>1</td>\n",
       "      <td>23.1 %</td>\n",
       "    </tr>\n",
       "    <tr>\n",
       "      <th>1</th>\n",
       "      <td>🥊</td>\n",
       "      <td>5.7</td>\n",
       "      <td>2</td>\n",
       "      <td>5.7 %</td>\n",
       "    </tr>\n",
       "    <tr>\n",
       "      <th>2</th>\n",
       "      <td>👊</td>\n",
       "      <td>3.5</td>\n",
       "      <td>3</td>\n",
       "      <td>3.5 %</td>\n",
       "    </tr>\n",
       "    <tr>\n",
       "      <th>3</th>\n",
       "      <td>👏</td>\n",
       "      <td>3.0</td>\n",
       "      <td>4</td>\n",
       "      <td>3.0 %</td>\n",
       "    </tr>\n",
       "    <tr>\n",
       "      <th>4</th>\n",
       "      <td>💪</td>\n",
       "      <td>2.5</td>\n",
       "      <td>5</td>\n",
       "      <td>2.5 %</td>\n",
       "    </tr>\n",
       "    <tr>\n",
       "      <th>5</th>\n",
       "      <td>🇮🇪</td>\n",
       "      <td>2.4</td>\n",
       "      <td>6</td>\n",
       "      <td>2.4 %</td>\n",
       "    </tr>\n",
       "    <tr>\n",
       "      <th>6</th>\n",
       "      <td>🤣</td>\n",
       "      <td>2.3</td>\n",
       "      <td>7</td>\n",
       "      <td>2.3 %</td>\n",
       "    </tr>\n",
       "    <tr>\n",
       "      <th>7</th>\n",
       "      <td>🔥</td>\n",
       "      <td>2.3</td>\n",
       "      <td>8</td>\n",
       "      <td>2.3 %</td>\n",
       "    </tr>\n",
       "    <tr>\n",
       "      <th>8</th>\n",
       "      <td>😭</td>\n",
       "      <td>2.0</td>\n",
       "      <td>9</td>\n",
       "      <td>2.0 %</td>\n",
       "    </tr>\n",
       "    <tr>\n",
       "      <th>9</th>\n",
       "      <td>💰</td>\n",
       "      <td>1.8</td>\n",
       "      <td>10</td>\n",
       "      <td>1.8 %</td>\n",
       "    </tr>\n",
       "  </tbody>\n",
       "</table>\n",
       "</div>"
      ],
      "text/plain": [
       "  EMOJI  PERCENT  rank PERCENT_TEXT\n",
       "0     😂     23.1     1       23.1 %\n",
       "1     🥊      5.7     2        5.7 %\n",
       "2     👊      3.5     3        3.5 %\n",
       "3     👏      3.0     4        3.0 %\n",
       "4     💪      2.5     5        2.5 %\n",
       "5    🇮🇪      2.4     6        2.4 %\n",
       "6     🤣      2.3     7        2.3 %\n",
       "7     🔥      2.3     8        2.3 %\n",
       "8     😭      2.0     9        2.0 %\n",
       "9     💰      1.8    10        1.8 %"
      ]
     },
     "execution_count": 8,
     "metadata": {},
     "output_type": "execute_result"
    }
   ],
   "source": [
    "# uncomment to see what's inside\n",
    "percentages_df"
   ]
  },
  {
   "cell_type": "markdown",
   "metadata": {},
   "source": [
    "** Homework note, construct your solution to this chart in the cell below. Click [here](assets/emoji_distrib_altair.png) to see a sample output from Altair."
   ]
  },
  {
   "cell_type": "markdown",
   "metadata": {},
   "source": [
    "## 2.1 use percentages_df to recreate the visualization above"
   ]
  },
  {
   "cell_type": "code",
   "execution_count": 9,
   "metadata": {},
   "outputs": [],
   "source": [
    "# Let's set our sorting criteria\n",
    "srt1=list(percentages_df['PERCENT_TEXT'])\n",
    "srt2=list(percentages_df['EMOJI'])"
   ]
  },
  {
   "cell_type": "code",
   "execution_count": 10,
   "metadata": {},
   "outputs": [
    {
     "data": {
      "text/html": [
       "\n",
       "<div id=\"altair-viz-e233715723054b8aa165545a00219add\"></div>\n",
       "<script type=\"text/javascript\">\n",
       "  (function(spec, embedOpt){\n",
       "    const outputDiv = document.getElementById(\"altair-viz-e233715723054b8aa165545a00219add\");\n",
       "    const paths = {\n",
       "      \"vega\": \"https://cdn.jsdelivr.net/npm//vega@5?noext\",\n",
       "      \"vega-lib\": \"https://cdn.jsdelivr.net/npm//vega-lib?noext\",\n",
       "      \"vega-lite\": \"https://cdn.jsdelivr.net/npm//vega-lite@4.0.2?noext\",\n",
       "      \"vega-embed\": \"https://cdn.jsdelivr.net/npm//vega-embed@6?noext\",\n",
       "    };\n",
       "\n",
       "    function loadScript(lib) {\n",
       "      return new Promise(function(resolve, reject) {\n",
       "        var s = document.createElement('script');\n",
       "        s.src = paths[lib];\n",
       "        s.async = true;\n",
       "        s.onload = () => resolve(paths[lib]);\n",
       "        s.onerror = () => reject(`Error loading script: ${paths[lib]}`);\n",
       "        document.getElementsByTagName(\"head\")[0].appendChild(s);\n",
       "      });\n",
       "    }\n",
       "\n",
       "    function showError(err) {\n",
       "      outputDiv.innerHTML = `<div class=\"error\" style=\"color:red;\">${err}</div>`;\n",
       "      throw err;\n",
       "    }\n",
       "\n",
       "    function displayChart(vegaEmbed) {\n",
       "      vegaEmbed(outputDiv, spec, embedOpt)\n",
       "        .catch(err => showError(`Javascript Error: ${err.message}<br>This usually means there's a typo in your chart specification. See the javascript console for the full traceback.`));\n",
       "    }\n",
       "\n",
       "    if(typeof define === \"function\" && define.amd) {\n",
       "      requirejs.config({paths});\n",
       "      require([\"vega-embed\"], displayChart, err => showError(`Error loading script: ${err.message}`));\n",
       "    } else if (typeof vegaEmbed === \"function\") {\n",
       "      displayChart(vegaEmbed);\n",
       "    } else {\n",
       "      loadScript(\"vega\")\n",
       "        .then(() => loadScript(\"vega-lite\"))\n",
       "        .then(() => loadScript(\"vega-embed\"))\n",
       "        .catch(showError)\n",
       "        .then(() => displayChart(vegaEmbed));\n",
       "    }\n",
       "  })({\"config\": {\"view\": {\"continuousWidth\": 400, \"continuousHeight\": 300, \"stroke\": null}}, \"hconcat\": [{\"mark\": \"text\", \"encoding\": {\"y\": {\"type\": \"nominal\", \"axis\": {\"domainColor\": \"white\", \"labelFontSize\": 12, \"labelPadding\": -25, \"tickColor\": \"white\", \"tickOffset\": -3}, \"field\": \"EMOJI\", \"sort\": [\"\\ud83d\\ude02\", \"\\ud83e\\udd4a\", \"\\ud83d\\udc4a\", \"\\ud83d\\udc4f\", \"\\ud83d\\udcaa\", \"\\ud83c\\uddee\\ud83c\\uddea\", \"\\ud83e\\udd23\", \"\\ud83d\\udd25\", \"\\ud83d\\ude2d\", \"\\ud83d\\udcb0\"], \"title\": null}}, \"height\": 200}, {\"mark\": {\"type\": \"text\", \"align\": \"center\", \"baseline\": \"middle\", \"fontWeight\": \"bold\"}, \"encoding\": {\"text\": {\"type\": \"nominal\", \"field\": \"PERCENT_TEXT\"}, \"y\": {\"type\": \"ordinal\", \"axis\": {\"domain\": false, \"labels\": false, \"ticks\": false, \"title\": null}, \"field\": \"rank\"}}, \"height\": 200}, {\"mark\": {\"type\": \"bar\", \"color\": \"#f6b800\"}, \"encoding\": {\"x\": {\"type\": \"quantitative\", \"axis\": null, \"field\": \"PERCENT\"}, \"y\": {\"type\": \"ordinal\", \"axis\": {\"domain\": false, \"labelColor\": \"black\", \"labelFontSize\": 11, \"labelFontWeight\": \"bold\", \"labelPadding\": 20, \"labels\": false, \"ticks\": false, \"title\": null}, \"field\": \"rank\"}}, \"height\": 200}], \"data\": {\"url\": \"altair-data-cfe91f2b615d9ce80ed8fed7dc095575.json\", \"format\": {\"type\": \"json\"}}, \"$schema\": \"https://vega.github.io/schema/vega-lite/v4.0.2.json\"}, {\"mode\": \"vega-lite\"});\n",
       "</script>"
      ],
      "text/plain": [
       "alt.HConcatChart(...)"
      ]
     },
     "execution_count": 10,
     "metadata": {},
     "output_type": "execute_result"
    }
   ],
   "source": [
    "from altair import datum\n",
    "\n",
    "bars=alt.Chart(percentages_df).mark_bar(color='#f6b800').encode(\n",
    "    x=alt.X('PERCENT:Q', axis=None),\n",
    "    y=alt.Y('rank:O',axis=alt.Axis(ticks=False,domain=False,labelPadding=20,labelColor='black',\n",
    "                                                            labelFontWeight='bold',labelFontSize=11,title=None,labels=False))\n",
    ").properties(height=200)\n",
    "\n",
    "text1 = alt.Chart(percentages_df).mark_text(fontWeight='bold',\n",
    "align='center',\n",
    "baseline='middle' \n",
    ").encode(\n",
    "    y=alt.Y('rank:O',axis=alt.Axis(domain=False,title=None,ticks=False,labels=False)),text=alt.Text('PERCENT_TEXT')\n",
    ").properties(height=200)\n",
    "\n",
    "emo=alt.Chart(percentages_df).mark_text().encode(\n",
    "    y=alt.Y('EMOJI',sort=srt2,title=None,axis=alt.Axis(tickOffset=-3,labelFontSize=12,tickColor='white',domainColor='white',labelPadding=-25))\n",
    "    \n",
    ").properties(height=200)\n",
    "\n",
    "\n",
    "(emo | text1 | bars).configure_view(stroke=None)"
   ]
  },
  {
   "cell_type": "code",
   "execution_count": 11,
   "metadata": {
    "deletable": false,
    "nbgrader": {
     "checksum": "daa3fefe200b07e34f61cce1f084dc4f",
     "grade": true,
     "grade_id": "cell-e53580df5d25afef",
     "locked": false,
     "points": 0,
     "schema_version": 1,
     "solution": true
    }
   },
   "outputs": [],
   "source": [
    "# use percentages_df to recreate the visualization above\n",
    "\n",
    "# YOUR CODE HERE\n",
    "#raise NotImplementedError()"
   ]
  },
  {
   "cell_type": "markdown",
   "metadata": {},
   "source": [
    "There were the likely frontrunners for most-used emoji: the 🥊, the 👊, the 💪. But the emoji of the fight was far and away the 😂. (“Face with tears of joy.”)<sup>2<sup>"
   ]
  },
  {
   "cell_type": "markdown",
   "metadata": {},
   "source": [
    "> <font color=grey> 1.2. That’s certainly appropriate for this spectacle, but it should be noted that 😂 is also the [most tweeted](http://emojitracker.com/) emoji generally.</font>"
   ]
  },
  {
   "cell_type": "markdown",
   "metadata": {},
   "source": [
    "Here’s how the night unfolded, emoji-wise. (All of the charts below show them on a four-minute rolling average.)\n",
    "<img src=\"assets/tweet1.png\" alt=\"Drawing\" style=\"width: 500px;\"/>"
   ]
  },
  {
   "cell_type": "markdown",
   "metadata": {},
   "source": [
    "For one thing, the fight was a sharply partisan affair. The majority of people in the arena appeared to be McGregor fans — he hails from Dublin and an Irish flag, worn cape-style, almost seemed like the evening’s dress code. But other fans were members of TMT — The Money Team — and loyal to “Money” Mayweather. Twitter’s loyalties came and went as the match progressed, with enthusiasm from either camp seemingly matching each fighter’s success."
   ]
  },
  {
   "cell_type": "markdown",
   "metadata": {},
   "source": [
    "<img src=\"assets/chart_2.png\" alt=\"Drawing\" style=\"width: 500px;\"/>"
   ]
  },
  {
   "cell_type": "code",
   "execution_count": 12,
   "metadata": {},
   "outputs": [],
   "source": [
    "# Again, we're going to help you set up the data\n",
    "\n",
    "# We're going to want to work with time objects so we need to make a datetime\n",
    "# column (basically transforming the text in \"created at\"). It duplicates\n",
    "# the data but it will make things easier\n",
    "\n",
    "\n",
    "tweets['datetime'] = pd.to_datetime(tweets['created_at'])\n",
    "tweets = tweets.set_index('datetime')\n",
    "\n",
    "\n",
    "teams = tweets.copy()\n",
    "teams['irish_pride']\n",
    "teams = teams.resample('1s').sum()\n",
    "teams  = teams[(teams['💸']>0) | (teams['🤑']>0) | (teams['💰']>0) | (teams['💵']>0) | (teams['☘️']>0) | (teams['🍀']>0) | (teams['🇮🇪']>0) ]\n",
    "\n",
    "# next we're going to creat a rolling average\n",
    "# first for the money team\n",
    "mdf = teams['money_team'].rolling('4Min').mean().reset_index()\n",
    "mdf['team'] = '💸🤑💰💵'\n",
    "mdf = mdf.rename(columns={'money_team':'tweet_count'})\n",
    "\n",
    "# next for the irish team\n",
    "idf = teams['irish_pride'].rolling('4Min').mean().reset_index()\n",
    "idf['team'] = '☘️🍀🇮🇪'\n",
    "idf = idf.rename(columns={'irish_pride':'tweet_count'})\n",
    "\n",
    "# now we'll combine our datasets\n",
    "ndf = pd.concat([mdf,idf])"
   ]
  },
  {
   "cell_type": "code",
   "execution_count": 13,
   "metadata": {},
   "outputs": [
    {
     "data": {
      "text/html": [
       "<div>\n",
       "<style scoped>\n",
       "    .dataframe tbody tr th:only-of-type {\n",
       "        vertical-align: middle;\n",
       "    }\n",
       "\n",
       "    .dataframe tbody tr th {\n",
       "        vertical-align: top;\n",
       "    }\n",
       "\n",
       "    .dataframe thead th {\n",
       "        text-align: right;\n",
       "    }\n",
       "</style>\n",
       "<table border=\"1\" class=\"dataframe\">\n",
       "  <thead>\n",
       "    <tr style=\"text-align: right;\">\n",
       "      <th></th>\n",
       "      <th>datetime</th>\n",
       "      <th>tweet_count</th>\n",
       "      <th>team</th>\n",
       "    </tr>\n",
       "  </thead>\n",
       "  <tbody>\n",
       "    <tr>\n",
       "      <th>0</th>\n",
       "      <td>2017-08-27 00:05:35</td>\n",
       "      <td>7.000000</td>\n",
       "      <td>💸🤑💰💵</td>\n",
       "    </tr>\n",
       "    <tr>\n",
       "      <th>1</th>\n",
       "      <td>2017-08-27 00:05:38</td>\n",
       "      <td>3.500000</td>\n",
       "      <td>💸🤑💰💵</td>\n",
       "    </tr>\n",
       "    <tr>\n",
       "      <th>2</th>\n",
       "      <td>2017-08-27 00:05:40</td>\n",
       "      <td>2.333333</td>\n",
       "      <td>💸🤑💰💵</td>\n",
       "    </tr>\n",
       "    <tr>\n",
       "      <th>3</th>\n",
       "      <td>2017-08-27 00:05:43</td>\n",
       "      <td>2.000000</td>\n",
       "      <td>💸🤑💰💵</td>\n",
       "    </tr>\n",
       "    <tr>\n",
       "      <th>4</th>\n",
       "      <td>2017-08-27 00:05:44</td>\n",
       "      <td>1.600000</td>\n",
       "      <td>💸🤑💰💵</td>\n",
       "    </tr>\n",
       "  </tbody>\n",
       "</table>\n",
       "</div>"
      ],
      "text/plain": [
       "             datetime  tweet_count  team\n",
       "0 2017-08-27 00:05:35     7.000000  💸🤑💰💵\n",
       "1 2017-08-27 00:05:38     3.500000  💸🤑💰💵\n",
       "2 2017-08-27 00:05:40     2.333333  💸🤑💰💵\n",
       "3 2017-08-27 00:05:43     2.000000  💸🤑💰💵\n",
       "4 2017-08-27 00:05:44     1.600000  💸🤑💰💵"
      ]
     },
     "execution_count": 13,
     "metadata": {},
     "output_type": "execute_result"
    }
   ],
   "source": [
    "ndf.head()"
   ]
  },
  {
   "cell_type": "code",
   "execution_count": 14,
   "metadata": {},
   "outputs": [
    {
     "data": {
      "text/html": [
       "<div>\n",
       "<style scoped>\n",
       "    .dataframe tbody tr th:only-of-type {\n",
       "        vertical-align: middle;\n",
       "    }\n",
       "\n",
       "    .dataframe tbody tr th {\n",
       "        vertical-align: top;\n",
       "    }\n",
       "\n",
       "    .dataframe thead th {\n",
       "        text-align: right;\n",
       "    }\n",
       "</style>\n",
       "<table border=\"1\" class=\"dataframe\">\n",
       "  <thead>\n",
       "    <tr style=\"text-align: right;\">\n",
       "      <th></th>\n",
       "      <th>datetime</th>\n",
       "      <th>tweet_count</th>\n",
       "      <th>team</th>\n",
       "    </tr>\n",
       "  </thead>\n",
       "  <tbody>\n",
       "    <tr>\n",
       "      <th>771</th>\n",
       "      <td>2017-08-27 01:11:26</td>\n",
       "      <td>3.170213</td>\n",
       "      <td>💸🤑💰💵</td>\n",
       "    </tr>\n",
       "    <tr>\n",
       "      <th>654</th>\n",
       "      <td>2017-08-27 01:02:21</td>\n",
       "      <td>1.763636</td>\n",
       "      <td>💸🤑💰💵</td>\n",
       "    </tr>\n",
       "    <tr>\n",
       "      <th>366</th>\n",
       "      <td>2017-08-27 00:34:27</td>\n",
       "      <td>0.962963</td>\n",
       "      <td>💸🤑💰💵</td>\n",
       "    </tr>\n",
       "    <tr>\n",
       "      <th>714</th>\n",
       "      <td>2017-08-27 01:06:11</td>\n",
       "      <td>1.409836</td>\n",
       "      <td>💸🤑💰💵</td>\n",
       "    </tr>\n",
       "    <tr>\n",
       "      <th>260</th>\n",
       "      <td>2017-08-27 00:21:00</td>\n",
       "      <td>1.666667</td>\n",
       "      <td>☘️🍀🇮🇪</td>\n",
       "    </tr>\n",
       "  </tbody>\n",
       "</table>\n",
       "</div>"
      ],
      "text/plain": [
       "               datetime  tweet_count   team\n",
       "771 2017-08-27 01:11:26     3.170213   💸🤑💰💵\n",
       "654 2017-08-27 01:02:21     1.763636   💸🤑💰💵\n",
       "366 2017-08-27 00:34:27     0.962963   💸🤑💰💵\n",
       "714 2017-08-27 01:06:11     1.409836   💸🤑💰💵\n",
       "260 2017-08-27 00:21:00     1.666667  ☘️🍀🇮🇪"
      ]
     },
     "execution_count": 14,
     "metadata": {},
     "output_type": "execute_result"
    }
   ],
   "source": [
    "# uncomment to see what's inside\n",
    "ndf.sample(5)"
   ]
  },
  {
   "cell_type": "code",
   "execution_count": 15,
   "metadata": {},
   "outputs": [],
   "source": [
    "# we're also going to create an annotations data frame to help you\n",
    "annotations = [['2017-08-27 00:15:00',4, 'Fight begins'],\n",
    "               ['2017-08-27 00:22:00',5, 'McGregor does OK \\nin the early rounds'],\n",
    "               ['2017-08-27 00:53:00',4, 'Mayweather takes \\nover and wins by \\nTKO']]\n",
    "a_df = pd.DataFrame(annotations, columns=['date','count','note'])"
   ]
  },
  {
   "cell_type": "code",
   "execution_count": 16,
   "metadata": {},
   "outputs": [
    {
     "data": {
      "text/html": [
       "<div>\n",
       "<style scoped>\n",
       "    .dataframe tbody tr th:only-of-type {\n",
       "        vertical-align: middle;\n",
       "    }\n",
       "\n",
       "    .dataframe tbody tr th {\n",
       "        vertical-align: top;\n",
       "    }\n",
       "\n",
       "    .dataframe thead th {\n",
       "        text-align: right;\n",
       "    }\n",
       "</style>\n",
       "<table border=\"1\" class=\"dataframe\">\n",
       "  <thead>\n",
       "    <tr style=\"text-align: right;\">\n",
       "      <th></th>\n",
       "      <th>date</th>\n",
       "      <th>count</th>\n",
       "      <th>note</th>\n",
       "    </tr>\n",
       "  </thead>\n",
       "  <tbody>\n",
       "    <tr>\n",
       "      <th>0</th>\n",
       "      <td>2017-08-27 00:15:00</td>\n",
       "      <td>4</td>\n",
       "      <td>Fight begins</td>\n",
       "    </tr>\n",
       "    <tr>\n",
       "      <th>1</th>\n",
       "      <td>2017-08-27 00:22:00</td>\n",
       "      <td>5</td>\n",
       "      <td>McGregor does OK \\nin the early rounds</td>\n",
       "    </tr>\n",
       "    <tr>\n",
       "      <th>2</th>\n",
       "      <td>2017-08-27 00:53:00</td>\n",
       "      <td>4</td>\n",
       "      <td>Mayweather takes \\nover and wins by \\nTKO</td>\n",
       "    </tr>\n",
       "  </tbody>\n",
       "</table>\n",
       "</div>"
      ],
      "text/plain": [
       "                  date  count                                       note\n",
       "0  2017-08-27 00:15:00      4                               Fight begins\n",
       "1  2017-08-27 00:22:00      5     McGregor does OK \\nin the early rounds\n",
       "2  2017-08-27 00:53:00      4  Mayweather takes \\nover and wins by \\nTKO"
      ]
     },
     "execution_count": 16,
     "metadata": {},
     "output_type": "execute_result"
    }
   ],
   "source": [
    "# uncomment to see what's inside\n",
    "\n",
    "a_df"
   ]
  },
  {
   "cell_type": "code",
   "execution_count": 17,
   "metadata": {},
   "outputs": [
    {
     "data": {
      "text/html": [
       "<div>\n",
       "<style scoped>\n",
       "    .dataframe tbody tr th:only-of-type {\n",
       "        vertical-align: middle;\n",
       "    }\n",
       "\n",
       "    .dataframe tbody tr th {\n",
       "        vertical-align: top;\n",
       "    }\n",
       "\n",
       "    .dataframe thead th {\n",
       "        text-align: right;\n",
       "    }\n",
       "</style>\n",
       "<table border=\"1\" class=\"dataframe\">\n",
       "  <thead>\n",
       "    <tr style=\"text-align: right;\">\n",
       "      <th></th>\n",
       "      <th>x</th>\n",
       "      <th>y</th>\n",
       "      <th>class</th>\n",
       "    </tr>\n",
       "  </thead>\n",
       "  <tbody>\n",
       "    <tr>\n",
       "      <th>0</th>\n",
       "      <td>2017-08-27 00:15:00</td>\n",
       "      <td>2.2</td>\n",
       "      <td>A</td>\n",
       "    </tr>\n",
       "    <tr>\n",
       "      <th>1</th>\n",
       "      <td>2017-08-27 00:15:00</td>\n",
       "      <td>3.7</td>\n",
       "      <td>A</td>\n",
       "    </tr>\n",
       "    <tr>\n",
       "      <th>2</th>\n",
       "      <td>2017-08-27 00:22:00</td>\n",
       "      <td>4.3</td>\n",
       "      <td>B</td>\n",
       "    </tr>\n",
       "    <tr>\n",
       "      <th>3</th>\n",
       "      <td>2017-08-27 00:30:00</td>\n",
       "      <td>3.8</td>\n",
       "      <td>B</td>\n",
       "    </tr>\n",
       "  </tbody>\n",
       "</table>\n",
       "</div>"
      ],
      "text/plain": [
       "                     x    y class\n",
       "0  2017-08-27 00:15:00  2.2     A\n",
       "1  2017-08-27 00:15:00  3.7     A\n",
       "2  2017-08-27 00:22:00  4.3     B\n",
       "3  2017-08-27 00:30:00  3.8     B"
      ]
     },
     "execution_count": 17,
     "metadata": {},
     "output_type": "execute_result"
    }
   ],
   "source": [
    "# Let' create a dataframe for arrows,\n",
    "\n",
    "arrows=pd.DataFrame({'x':['2017-08-27 00:15:00','2017-08-27 00:15:00','2017-08-27 00:22:00','2017-08-27 00:30:00'],\n",
    "                    'y':['2.2','3.7','4.3','3.8'],'class':['A','A','B','B']})\n",
    "arrows"
   ]
  },
  {
   "cell_type": "markdown",
   "metadata": {},
   "source": [
    "** Homework note, construct your solution to this chart in the cell below. Click [here](assets/altair_chart2.png) to see a sample output from Altair."
   ]
  },
  {
   "cell_type": "markdown",
   "metadata": {},
   "source": [
    "## 2.2 your turn, create your solution "
   ]
  },
  {
   "cell_type": "code",
   "execution_count": 18,
   "metadata": {},
   "outputs": [
    {
     "data": {
      "text/html": [
       "\n",
       "<div id=\"altair-viz-839eca3c845b436c9c5fe373f9bb2cbd\"></div>\n",
       "<script type=\"text/javascript\">\n",
       "  (function(spec, embedOpt){\n",
       "    const outputDiv = document.getElementById(\"altair-viz-839eca3c845b436c9c5fe373f9bb2cbd\");\n",
       "    const paths = {\n",
       "      \"vega\": \"https://cdn.jsdelivr.net/npm//vega@5?noext\",\n",
       "      \"vega-lib\": \"https://cdn.jsdelivr.net/npm//vega-lib?noext\",\n",
       "      \"vega-lite\": \"https://cdn.jsdelivr.net/npm//vega-lite@4.0.2?noext\",\n",
       "      \"vega-embed\": \"https://cdn.jsdelivr.net/npm//vega-embed@6?noext\",\n",
       "    };\n",
       "\n",
       "    function loadScript(lib) {\n",
       "      return new Promise(function(resolve, reject) {\n",
       "        var s = document.createElement('script');\n",
       "        s.src = paths[lib];\n",
       "        s.async = true;\n",
       "        s.onload = () => resolve(paths[lib]);\n",
       "        s.onerror = () => reject(`Error loading script: ${paths[lib]}`);\n",
       "        document.getElementsByTagName(\"head\")[0].appendChild(s);\n",
       "      });\n",
       "    }\n",
       "\n",
       "    function showError(err) {\n",
       "      outputDiv.innerHTML = `<div class=\"error\" style=\"color:red;\">${err}</div>`;\n",
       "      throw err;\n",
       "    }\n",
       "\n",
       "    function displayChart(vegaEmbed) {\n",
       "      vegaEmbed(outputDiv, spec, embedOpt)\n",
       "        .catch(err => showError(`Javascript Error: ${err.message}<br>This usually means there's a typo in your chart specification. See the javascript console for the full traceback.`));\n",
       "    }\n",
       "\n",
       "    if(typeof define === \"function\" && define.amd) {\n",
       "      requirejs.config({paths});\n",
       "      require([\"vega-embed\"], displayChart, err => showError(`Error loading script: ${err.message}`));\n",
       "    } else if (typeof vegaEmbed === \"function\") {\n",
       "      displayChart(vegaEmbed);\n",
       "    } else {\n",
       "      loadScript(\"vega\")\n",
       "        .then(() => loadScript(\"vega-lite\"))\n",
       "        .then(() => loadScript(\"vega-embed\"))\n",
       "        .catch(showError)\n",
       "        .then(() => displayChart(vegaEmbed));\n",
       "    }\n",
       "  })({\"config\": {\"view\": {\"continuousWidth\": 400, \"continuousHeight\": 300, \"stroke\": null}, \"title\": {\"anchor\": \"start\", \"fontSize\": 20, \"fontWeight\": \"bold\"}}, \"layer\": [{\"data\": {\"url\": \"altair-data-2a2f55197d4d02c4ca7b2e64a648b721.json\", \"format\": {\"type\": \"json\"}}, \"mark\": \"line\", \"encoding\": {\"color\": {\"type\": \"nominal\", \"field\": \"team\", \"legend\": {\"labelFontSize\": 15, \"orient\": \"top\", \"title\": null}, \"scale\": {\"range\": [\"#78ab47\", \"#ffca42\"]}}, \"x\": {\"type\": \"temporal\", \"axis\": {\"domainColor\": \"#a9a9a9\", \"labelColor\": \"#a9a9a9\", \"labelFontWeight\": \"bold\", \"tickColor\": \"#a9a9a9\", \"tickCount\": 5, \"tickMinStep\": 15, \"title\": null}, \"field\": \"datetime\"}, \"y\": {\"type\": \"quantitative\", \"axis\": {\"labelColor\": \"#a9a9a9\", \"labelFontWeight\": \"bold\", \"tickColor\": \"#a9a9a9\", \"tickMinStep\": 2, \"title\": \"Four-minute rolling average\", \"titleFontSize\": 14, \"titleX\": -20}, \"field\": \"tweet_count\"}}, \"width\": 400}, {\"data\": {\"url\": \"altair-data-fca19b628a0d41633c43b4b7b3cef3f8.json\", \"format\": {\"type\": \"json\"}}, \"mark\": {\"type\": \"text\", \"fontSize\": 10, \"fontWeight\": \"bold\", \"lineBreak\": \"\\n\", \"size\": 12}, \"encoding\": {\"text\": {\"type\": \"nominal\", \"field\": \"note\"}, \"x\": {\"type\": \"temporal\", \"field\": \"date\"}, \"y\": {\"type\": \"quantitative\", \"field\": \"count\"}}}, {\"data\": {\"url\": \"altair-data-ff726ed7e1683c8c9c414048342e8d65.json\", \"format\": {\"type\": \"json\"}}, \"mark\": {\"type\": \"line\", \"color\": \"black\", \"dy\": 5, \"fontSize\": 1}, \"encoding\": {\"detail\": {\"type\": \"nominal\", \"field\": \"class\"}, \"x\": {\"type\": \"temporal\", \"field\": \"x\"}, \"y\": {\"type\": \"quantitative\", \"field\": \"y\"}}}], \"background\": \"#f0f0f0\", \"title\": {\"text\": \"Irish Pride VS The Money Team\", \"dy\": -7, \"subtitle\": [\"Four-minute rolling average of the number of uses of selected emoji in\", \"sampled tweets during the Mayweather-McGregor fight\"], \"subtitleFontSize\": 13, \"subtitleFontWeight\": \"bold\"}, \"$schema\": \"https://vega.github.io/schema/vega-lite/v4.0.2.json\"}, {\"mode\": \"vega-lite\"});\n",
       "</script>"
      ],
      "text/plain": [
       "alt.LayerChart(...)"
      ]
     },
     "execution_count": 18,
     "metadata": {},
     "output_type": "execute_result"
    }
   ],
   "source": [
    "chrt=alt.Chart(ndf).mark_line().encode(\n",
    "        x=alt.X('datetime',axis=alt.Axis(labelFontWeight='bold',domainColor='#a9a9a9',title=None,tickMinStep=15,tickCount=5,tickColor='#a9a9a9',labelColor='#a9a9a9')),\n",
    "        y=alt.Y('tweet_count:Q', axis=alt.Axis(labelFontWeight='bold',title='Four-minute rolling average',titleX=-20,titleFontSize=14,tickMinStep=2\n",
    "                                              ,tickColor='#a9a9a9',labelColor='#a9a9a9')),\n",
    "        color=alt.Color('team:N',legend=alt.Legend(orient='top',title=None,labelFontSize = 15),\n",
    "                        scale=alt.Scale(range=['#78ab47','#ffca42']))\n",
    "\n",
    ").properties(width=400)\n",
    "\n",
    "annot= alt.Chart(a_df).mark_text(size=12,fontWeight='bold',lineBreak='\\n',\n",
    "    fontSize = 10).encode(\n",
    "    x=alt.X('date:T'),\n",
    "    y='count:Q',\n",
    "    text=alt.Text('note:N'))\n",
    "\n",
    "arr=alt.Chart(arrows).mark_line(color='black',fontSize=1,dy=5).encode(\n",
    "    x='x:T',\n",
    "    y='y:Q',\n",
    "    detail='class'\n",
    ")\n",
    "\n",
    "alt.layer(chrt, annot,arr).configure_title(anchor='start',fontSize=20,fontWeight='bold'\n",
    "                                          ).properties(background='#f0f0f0', title=alt.TitleParams(\n",
    "                                           text=\"Irish Pride VS The Money Team\",\n",
    "    subtitle=['Four-minute rolling average of the number of uses of selected emoji in',\n",
    "                                             'sampled tweets during the Mayweather-McGregor fight'],subtitleFontSize=13,\n",
    "                                            subtitleFontWeight='bold', dy=-7)).configure_view(stroke=None)\n"
   ]
  },
  {
   "cell_type": "code",
   "execution_count": 19,
   "metadata": {
    "deletable": false,
    "nbgrader": {
     "checksum": "b08000a8a7a758a2d59677fc388f1fb0",
     "grade": true,
     "grade_id": "cell-94ed8837ccad14c0",
     "locked": false,
     "points": 0,
     "schema_version": 1,
     "solution": true
    }
   },
   "outputs": [],
   "source": [
    "# your turn, create your solution \n",
    "# YOUR CODE HERE\n",
    "#raise NotImplementedError()"
   ]
  },
  {
   "cell_type": "markdown",
   "metadata": {},
   "source": [
    "To the surprise of many (of the neutral and pro-Mayweather viewers, anyway) McGregor won the first round. The next couple were washes, and a quarter of the way into the [scheduled 12 rounds](https://www.nytimes.com/2017/08/26/sports/mayweather-mcgregor.html) … the Irish underdog may have been winning! The Irish flags and shamrocks followed on Twitter. Things slowly (perhaps even 😴ly) turned around as one of the best pound-for-pound boxers in history took control of the man making his pro debut — an outcome which was predicted by precisely everyone. Out came the emoji money bags."
   ]
  },
  {
   "cell_type": "markdown",
   "metadata": {},
   "source": [
    "<img src=\"assets/tweet2.png\" alt=\"Drawing\" style=\"width: 500px;\"/>"
   ]
  },
  {
   "cell_type": "markdown",
   "metadata": {},
   "source": [
    "By the sixth round, it seemed like only a matter of time until the old pro dismantled the newcomer. By the ninth it was clear Mayweather was going for the knockout. It came soon thereafter. Mayweather unleashed a vicious flurry of punches in the 10th and the ref stepped in, declaring Mayweather the victor and saving McGregor, who was somehow still on his feet, from further damage."
   ]
  },
  {
   "cell_type": "markdown",
   "metadata": {},
   "source": [
    "<img src=\"assets/chart_3.png\" alt=\"Drawing\" style=\"width: 500px;\"/>"
   ]
  },
  {
   "cell_type": "markdown",
   "metadata": {},
   "source": [
    "** Homework note, construct your solution to this chart in the cell below. Click [here](assets/altair_chart3.png) to see a sample output from Altair."
   ]
  },
  {
   "cell_type": "markdown",
   "metadata": {},
   "source": [
    "## 2.3 your solution goes here, use the example above for the sampling and annotation"
   ]
  },
  {
   "cell_type": "code",
   "execution_count": 20,
   "metadata": {},
   "outputs": [
    {
     "data": {
      "text/plain": [
       "Index(['emojis', 'id', 'retweeted', '☘️', '🇮🇪', '🍀', '💸', '🤑', '💰', '💵', '😴',\n",
       "       '😂', '🤣', '🥊', '👊', '👏', '💪', '🔥', '😭', 'irish_pride', 'money_team'],\n",
       "      dtype='object')"
      ]
     },
     "execution_count": 20,
     "metadata": {},
     "output_type": "execute_result"
    }
   ],
   "source": [
    "teams.columns"
   ]
  },
  {
   "cell_type": "code",
   "execution_count": 21,
   "metadata": {},
   "outputs": [
    {
     "data": {
      "text/html": [
       "<div>\n",
       "<style scoped>\n",
       "    .dataframe tbody tr th:only-of-type {\n",
       "        vertical-align: middle;\n",
       "    }\n",
       "\n",
       "    .dataframe tbody tr th {\n",
       "        vertical-align: top;\n",
       "    }\n",
       "\n",
       "    .dataframe thead th {\n",
       "        text-align: right;\n",
       "    }\n",
       "</style>\n",
       "<table border=\"1\" class=\"dataframe\">\n",
       "  <thead>\n",
       "    <tr style=\"text-align: right;\">\n",
       "      <th></th>\n",
       "      <th>datetime</th>\n",
       "      <th>tweet_count</th>\n",
       "      <th>status</th>\n",
       "    </tr>\n",
       "  </thead>\n",
       "  <tbody>\n",
       "    <tr>\n",
       "      <th>430</th>\n",
       "      <td>2017-08-27 01:13:46</td>\n",
       "      <td>0.461538</td>\n",
       "      <td>😴</td>\n",
       "    </tr>\n",
       "    <tr>\n",
       "      <th>431</th>\n",
       "      <td>2017-08-27 01:14:03</td>\n",
       "      <td>0.461538</td>\n",
       "      <td>😴</td>\n",
       "    </tr>\n",
       "    <tr>\n",
       "      <th>432</th>\n",
       "      <td>2017-08-27 01:14:26</td>\n",
       "      <td>0.428571</td>\n",
       "      <td>😴</td>\n",
       "    </tr>\n",
       "    <tr>\n",
       "      <th>433</th>\n",
       "      <td>2017-08-27 01:14:37</td>\n",
       "      <td>0.384615</td>\n",
       "      <td>😴</td>\n",
       "    </tr>\n",
       "    <tr>\n",
       "      <th>434</th>\n",
       "      <td>2017-08-27 01:14:56</td>\n",
       "      <td>0.357143</td>\n",
       "      <td>😴</td>\n",
       "    </tr>\n",
       "  </tbody>\n",
       "</table>\n",
       "</div>"
      ],
      "text/plain": [
       "               datetime  tweet_count status\n",
       "430 2017-08-27 01:13:46     0.461538      😴\n",
       "431 2017-08-27 01:14:03     0.461538      😴\n",
       "432 2017-08-27 01:14:26     0.428571      😴\n",
       "433 2017-08-27 01:14:37     0.384615      😴\n",
       "434 2017-08-27 01:14:56     0.357143      😴"
      ]
     },
     "execution_count": 21,
     "metadata": {},
     "output_type": "execute_result"
    }
   ],
   "source": [
    "# Let's first prepare our data,\n",
    "\n",
    "mood=tweets.copy()\n",
    "mood['hype'] = mood['🔥'] \n",
    "mood['bored'] =mood['😴'] \n",
    "\n",
    "mood['datetime'] = pd.to_datetime(mood['created_at'])\n",
    "mood = mood.set_index('datetime')\n",
    "\n",
    "mood = mood.resample('1s').sum()\n",
    "mood  = mood[(mood['🔥']>0) | (mood['😴']>0) ]\n",
    "\n",
    "len(mood)\n",
    "# next we're going to creat a rolling average\n",
    "\n",
    "hdf = mood['hype'].rolling('4Min').mean().reset_index()\n",
    "hdf['status'] = '🔥'\n",
    "hdf = hdf.rename(columns={'hype':'tweet_count'})\n",
    "\n",
    "\n",
    "bdf = mood['bored'].rolling('4Min').mean().reset_index()\n",
    "bdf['status'] = '😴'\n",
    "bdf = bdf.rename(columns={'bored':'tweet_count'})\n",
    "\n",
    "# now we'll combine our datasets\n",
    "df3 = pd.concat([hdf,bdf])\n",
    "df3.tail()"
   ]
  },
  {
   "cell_type": "code",
   "execution_count": 22,
   "metadata": {},
   "outputs": [
    {
     "data": {
      "text/html": [
       "<div>\n",
       "<style scoped>\n",
       "    .dataframe tbody tr th:only-of-type {\n",
       "        vertical-align: middle;\n",
       "    }\n",
       "\n",
       "    .dataframe tbody tr th {\n",
       "        vertical-align: top;\n",
       "    }\n",
       "\n",
       "    .dataframe thead th {\n",
       "        text-align: right;\n",
       "    }\n",
       "</style>\n",
       "<table border=\"1\" class=\"dataframe\">\n",
       "  <thead>\n",
       "    <tr style=\"text-align: right;\">\n",
       "      <th></th>\n",
       "      <th>date</th>\n",
       "      <th>count</th>\n",
       "      <th>note</th>\n",
       "    </tr>\n",
       "  </thead>\n",
       "  <tbody>\n",
       "    <tr>\n",
       "      <th>0</th>\n",
       "      <td>2017-08-27 00:13:00</td>\n",
       "      <td>1.3</td>\n",
       "      <td>Fight begins</td>\n",
       "    </tr>\n",
       "    <tr>\n",
       "      <th>1</th>\n",
       "      <td>2017-08-27 00:35:00</td>\n",
       "      <td>2.9</td>\n",
       "      <td>Mayweather takes control in middle rounds</td>\n",
       "    </tr>\n",
       "  </tbody>\n",
       "</table>\n",
       "</div>"
      ],
      "text/plain": [
       "                  date  count                                       note\n",
       "0  2017-08-27 00:13:00    1.3                               Fight begins\n",
       "1  2017-08-27 00:35:00    2.9  Mayweather takes control in middle rounds"
      ]
     },
     "execution_count": 22,
     "metadata": {},
     "output_type": "execute_result"
    }
   ],
   "source": [
    "# and Now let's create the annotation dataframe,\n",
    "\n",
    "annotations3 = [['2017-08-27 00:13:00',1.3, 'Fight begins'],\n",
    "               ['2017-08-27 00:35:00',2.9, 'Mayweather takes control in middle rounds']]\n",
    "               \n",
    "a_df3 = pd.DataFrame(annotations3, columns=['date','count','note'])\n",
    "a_df3"
   ]
  },
  {
   "cell_type": "code",
   "execution_count": 23,
   "metadata": {},
   "outputs": [
    {
     "data": {
      "text/html": [
       "<div>\n",
       "<style scoped>\n",
       "    .dataframe tbody tr th:only-of-type {\n",
       "        vertical-align: middle;\n",
       "    }\n",
       "\n",
       "    .dataframe tbody tr th {\n",
       "        vertical-align: top;\n",
       "    }\n",
       "\n",
       "    .dataframe thead th {\n",
       "        text-align: right;\n",
       "    }\n",
       "</style>\n",
       "<table border=\"1\" class=\"dataframe\">\n",
       "  <thead>\n",
       "    <tr style=\"text-align: right;\">\n",
       "      <th></th>\n",
       "      <th>x</th>\n",
       "      <th>y</th>\n",
       "      <th>class</th>\n",
       "    </tr>\n",
       "  </thead>\n",
       "  <tbody>\n",
       "    <tr>\n",
       "      <th>0</th>\n",
       "      <td>2017-08-27 00:15:00</td>\n",
       "      <td>0.6</td>\n",
       "      <td>A</td>\n",
       "    </tr>\n",
       "    <tr>\n",
       "      <th>1</th>\n",
       "      <td>2017-08-27 00:15:00</td>\n",
       "      <td>1.2</td>\n",
       "      <td>A</td>\n",
       "    </tr>\n",
       "    <tr>\n",
       "      <th>2</th>\n",
       "      <td>2017-08-27 00:31:00</td>\n",
       "      <td>1.8</td>\n",
       "      <td>B</td>\n",
       "    </tr>\n",
       "    <tr>\n",
       "      <th>3</th>\n",
       "      <td>2017-08-27 00:34:00</td>\n",
       "      <td>2.7</td>\n",
       "      <td>B</td>\n",
       "    </tr>\n",
       "    <tr>\n",
       "      <th>4</th>\n",
       "      <td>2017-08-27 00:45:00</td>\n",
       "      <td>1.5</td>\n",
       "      <td>C</td>\n",
       "    </tr>\n",
       "    <tr>\n",
       "      <th>5</th>\n",
       "      <td>2017-08-27 00:45:00</td>\n",
       "      <td>2.8</td>\n",
       "      <td>C</td>\n",
       "    </tr>\n",
       "  </tbody>\n",
       "</table>\n",
       "</div>"
      ],
      "text/plain": [
       "                     x    y class\n",
       "0  2017-08-27 00:15:00  0.6     A\n",
       "1  2017-08-27 00:15:00  1.2     A\n",
       "2  2017-08-27 00:31:00  1.8     B\n",
       "3  2017-08-27 00:34:00  2.7     B\n",
       "4  2017-08-27 00:45:00  1.5     C\n",
       "5  2017-08-27 00:45:00  2.8     C"
      ]
     },
     "execution_count": 23,
     "metadata": {},
     "output_type": "execute_result"
    }
   ],
   "source": [
    "# Finally, let's create our lines dataframe,\n",
    "arrows3=pd.DataFrame({'x':['2017-08-27 00:15:00','2017-08-27 00:15:00','2017-08-27 00:31:00','2017-08-27 00:34:00',\n",
    "                          '2017-08-27 00:45:00','2017-08-27 00:45:00'],\n",
    "                    'y':['0.6','1.2','1.8','2.7','1.5','2.8'],'class':['A','A','B','B','C','C']})\n",
    "arrows3"
   ]
  },
  {
   "cell_type": "code",
   "execution_count": 24,
   "metadata": {
    "scrolled": true
   },
   "outputs": [
    {
     "data": {
      "text/html": [
       "\n",
       "<div id=\"altair-viz-b3985c992f4c43a2b4b1d08bfb27ea72\"></div>\n",
       "<script type=\"text/javascript\">\n",
       "  (function(spec, embedOpt){\n",
       "    const outputDiv = document.getElementById(\"altair-viz-b3985c992f4c43a2b4b1d08bfb27ea72\");\n",
       "    const paths = {\n",
       "      \"vega\": \"https://cdn.jsdelivr.net/npm//vega@5?noext\",\n",
       "      \"vega-lib\": \"https://cdn.jsdelivr.net/npm//vega-lib?noext\",\n",
       "      \"vega-lite\": \"https://cdn.jsdelivr.net/npm//vega-lite@4.0.2?noext\",\n",
       "      \"vega-embed\": \"https://cdn.jsdelivr.net/npm//vega-embed@6?noext\",\n",
       "    };\n",
       "\n",
       "    function loadScript(lib) {\n",
       "      return new Promise(function(resolve, reject) {\n",
       "        var s = document.createElement('script');\n",
       "        s.src = paths[lib];\n",
       "        s.async = true;\n",
       "        s.onload = () => resolve(paths[lib]);\n",
       "        s.onerror = () => reject(`Error loading script: ${paths[lib]}`);\n",
       "        document.getElementsByTagName(\"head\")[0].appendChild(s);\n",
       "      });\n",
       "    }\n",
       "\n",
       "    function showError(err) {\n",
       "      outputDiv.innerHTML = `<div class=\"error\" style=\"color:red;\">${err}</div>`;\n",
       "      throw err;\n",
       "    }\n",
       "\n",
       "    function displayChart(vegaEmbed) {\n",
       "      vegaEmbed(outputDiv, spec, embedOpt)\n",
       "        .catch(err => showError(`Javascript Error: ${err.message}<br>This usually means there's a typo in your chart specification. See the javascript console for the full traceback.`));\n",
       "    }\n",
       "\n",
       "    if(typeof define === \"function\" && define.amd) {\n",
       "      requirejs.config({paths});\n",
       "      require([\"vega-embed\"], displayChart, err => showError(`Error loading script: ${err.message}`));\n",
       "    } else if (typeof vegaEmbed === \"function\") {\n",
       "      displayChart(vegaEmbed);\n",
       "    } else {\n",
       "      loadScript(\"vega\")\n",
       "        .then(() => loadScript(\"vega-lite\"))\n",
       "        .then(() => loadScript(\"vega-embed\"))\n",
       "        .catch(showError)\n",
       "        .then(() => displayChart(vegaEmbed));\n",
       "    }\n",
       "  })({\"config\": {\"view\": {\"continuousWidth\": 400, \"continuousHeight\": 300, \"stroke\": null}, \"title\": {\"anchor\": \"start\", \"fontSize\": 20, \"fontWeight\": \"bold\"}}, \"layer\": [{\"data\": {\"url\": \"altair-data-82b3c3b3fc440dfbeb0edabb5ebdb21c.json\", \"format\": {\"type\": \"json\"}}, \"mark\": \"line\", \"encoding\": {\"color\": {\"type\": \"nominal\", \"field\": \"status\", \"legend\": {\"labelFontSize\": 15, \"orient\": \"top\", \"title\": null}, \"scale\": {\"range\": [\"#e04d46\", \"#56c0c4\"]}}, \"x\": {\"type\": \"temporal\", \"axis\": {\"domainColor\": \"black\", \"format\": \"%I:%M\", \"labelColor\": \"#a9a9a9\", \"labelFontWeight\": \"bold\", \"tickColor\": \"#dddddd\", \"tickCount\": 5, \"tickMinStep\": 15, \"title\": null}, \"field\": \"datetime\"}, \"y\": {\"type\": \"quantitative\", \"axis\": {\"domainColor\": \"#dddddd\", \"labelColor\": \"#a9a9a9\", \"labelFontWeight\": \"bold\", \"tickColor\": \"#dddddd\", \"tickMinStep\": 1, \"title\": \"Four-minute rolling average\", \"titleFontSize\": 14, \"titleX\": -20}, \"field\": \"tweet_count\"}}, \"width\": 400}, {\"data\": {\"url\": \"altair-data-8c9cae4286920ec6120fefcab5f292d2.json\", \"format\": {\"type\": \"json\"}}, \"mark\": {\"type\": \"text\", \"align\": \"left\", \"dx\": -20, \"fontSize\": 10, \"fontWeight\": \"bold\", \"lineBreak\": \"\\n\", \"size\": 12}, \"encoding\": {\"text\": {\"type\": \"nominal\", \"field\": \"note\"}, \"x\": {\"type\": \"temporal\", \"field\": \"date\"}, \"y\": {\"type\": \"quantitative\", \"field\": \"count\"}}}, {\"data\": {\"url\": \"altair-data-057fdf331951e94a100a80fd746c2a73.json\", \"format\": {\"type\": \"json\"}}, \"mark\": {\"type\": \"line\", \"color\": \"black\", \"dy\": 5, \"fontSize\": 1}, \"encoding\": {\"detail\": {\"type\": \"nominal\", \"field\": \"class\"}, \"x\": {\"type\": \"temporal\", \"field\": \"x\"}, \"y\": {\"type\": \"quantitative\", \"field\": \"y\"}}}], \"background\": \"#f0f0f0\", \"title\": {\"text\": \"Much hype, some boredom\", \"dy\": -7, \"subtitle\": [\"Four-minute rolling average of the number of uses of selected emoji in\", \"sampled tweets during the Mayweather-McGregor fight \"], \"subtitleFontSize\": 13, \"subtitleFontWeight\": \"bold\"}, \"width\": 250, \"$schema\": \"https://vega.github.io/schema/vega-lite/v4.0.2.json\"}, {\"mode\": \"vega-lite\"});\n",
       "</script>"
      ],
      "text/plain": [
       "alt.LayerChart(...)"
      ]
     },
     "execution_count": 24,
     "metadata": {},
     "output_type": "execute_result"
    }
   ],
   "source": [
    "# Now let's create our chart,\n",
    "\n",
    "chrt3=alt.Chart(df3).mark_line().encode(\n",
    "        x=alt.X('datetime',axis=alt.Axis(labelFontWeight='bold',title=None,tickMinStep=15,tickCount=5,domainColor='black',tickColor='#dddddd',\n",
    "                                         labelColor='#a9a9a9',format='%I:%M')),\n",
    "        y=alt.Y('tweet_count:Q', axis=alt.Axis(labelFontWeight='bold',domainColor='#dddddd',title='Four-minute rolling average',titleX=-20,titleFontSize=14,tickMinStep=1\n",
    "                                              ,tickColor='#dddddd',labelColor='#a9a9a9')),\n",
    "        color=alt.Color('status:N',legend=alt.Legend(orient='top',title=None,labelFontSize = 15),\n",
    "                        scale=alt.Scale(range=['#e04d46','#56c0c4']))\n",
    "\n",
    ").properties(width=400)\n",
    "\n",
    "annot3= alt.Chart(a_df3).mark_text(size=12,fontWeight='bold',lineBreak='\\n',align='left',dx=-20,\n",
    "    fontSize = 10).encode(\n",
    "    x=alt.X('date:T'),\n",
    "    y='count:Q',\n",
    "    text=alt.Text('note:N'))\n",
    "\n",
    "arr3=alt.Chart(arrows3).mark_line(color='black',fontSize=1,dy=5).encode(\n",
    "    x='x:T',\n",
    "    y='y:Q',\n",
    "    detail='class'\n",
    ")\n",
    "\n",
    "alt.layer(chrt3, annot3,arr3).configure_title(anchor='start',fontSize=20,fontWeight='bold'\n",
    "                                          ).properties(background='#f0f0f0', title=alt.TitleParams(\n",
    "                                           text=\"Much hype, some boredom\",\n",
    "    subtitle=['Four-minute rolling average of the number of uses of selected emoji in',\n",
    "                                             'sampled tweets during the Mayweather-McGregor fight '],subtitleFontSize=13,\n",
    "                                            subtitleFontWeight='bold', dy=-7)).properties(width=250).configure_view(stroke=None)"
   ]
  },
  {
   "cell_type": "code",
   "execution_count": 25,
   "metadata": {
    "deletable": false,
    "nbgrader": {
     "checksum": "0b5e0f045ae532023cfb3ca06b8084e6",
     "grade": true,
     "grade_id": "cell-a7f1bff8d1b7905e",
     "locked": false,
     "points": 0,
     "schema_version": 1,
     "solution": true
    }
   },
   "outputs": [],
   "source": [
    "# your solution goes here, use the example above for the sampling and annotation\n",
    "\n",
    "# YOUR CODE HERE\n",
    "#raise NotImplementedError()\n"
   ]
  },
  {
   "cell_type": "markdown",
   "metadata": {},
   "source": [
    "It ended just over 37 minutes after it began. Five seconds later, Mayweather leapt up on the corner ropes, victorious — [50-0](https://fivethirtyeight.com/features/mayweather-is-defined-by-the-zero-next-to-his-name/). Some observers declared it a [satisfying spectacle](https://www.si.com/boxing/2017/08/27/after-months-hype-mayweather-and-mcgregor-deliver-boxing-spectacle). Others, McGregor chief among them, [were frustrated with the finish](https://www.cbssports.com/boxing/news/conor-mcgregor-frustrated-with-refs-fight-stoppage-let-the-man-put-me-down/). The emoji users on Twitter appeared to think the fight was, for the most part, 🔥 — especially as it heated up toward the end. While the result may never have been in question, this was a welcome outcome for many who viewed Mayweather’s last megafight against Manny Pacquiao as an epic 😴😴😴😴."
   ]
  },
  {
   "cell_type": "markdown",
   "metadata": {},
   "source": [
    "<img src=\"assets/tweet3.png\" alt=\"Drawing\" style=\"width: 500px;\"/>"
   ]
  },
  {
   "cell_type": "markdown",
   "metadata": {},
   "source": [
    "<img src=\"assets/chart_4.png\" alt=\"Drawing\" style=\"width: 500px;\"/>"
   ]
  },
  {
   "cell_type": "markdown",
   "metadata": {},
   "source": [
    "** Homework note, construct your solution to this chart in the cell below. Click [here](assets/altair_chart4.png) to see a sample output from Altair."
   ]
  },
  {
   "cell_type": "markdown",
   "metadata": {},
   "source": [
    "## 2.4 your solution goes here, use the example above for the sampling and annotation"
   ]
  },
  {
   "cell_type": "code",
   "execution_count": 26,
   "metadata": {},
   "outputs": [
    {
     "data": {
      "text/plain": [
       "Index(['created_at', 'emojis', 'id', 'link', 'retweeted', 'screen_name',\n",
       "       'text', '☘️', '🇮🇪', '🍀', '💸', '🤑', '💰', '💵', '😴', '😂', '🤣', '🥊', '👊',\n",
       "       '👏', '💪', '🔥', '😭', 'irish_pride', 'money_team'],\n",
       "      dtype='object')"
      ]
     },
     "execution_count": 26,
     "metadata": {},
     "output_type": "execute_result"
    }
   ],
   "source": [
    "tweets.columns"
   ]
  },
  {
   "cell_type": "code",
   "execution_count": 27,
   "metadata": {},
   "outputs": [
    {
     "data": {
      "text/html": [
       "<div>\n",
       "<style scoped>\n",
       "    .dataframe tbody tr th:only-of-type {\n",
       "        vertical-align: middle;\n",
       "    }\n",
       "\n",
       "    .dataframe tbody tr th {\n",
       "        vertical-align: top;\n",
       "    }\n",
       "\n",
       "    .dataframe thead th {\n",
       "        text-align: right;\n",
       "    }\n",
       "</style>\n",
       "<table border=\"1\" class=\"dataframe\">\n",
       "  <thead>\n",
       "    <tr style=\"text-align: right;\">\n",
       "      <th></th>\n",
       "      <th>datetime</th>\n",
       "      <th>tweet_count</th>\n",
       "      <th>feels</th>\n",
       "    </tr>\n",
       "  </thead>\n",
       "  <tbody>\n",
       "    <tr>\n",
       "      <th>0</th>\n",
       "      <td>2017-08-27 00:05:35</td>\n",
       "      <td>2.00</td>\n",
       "      <td>🤣</td>\n",
       "    </tr>\n",
       "    <tr>\n",
       "      <th>1</th>\n",
       "      <td>2017-08-27 00:05:59</td>\n",
       "      <td>1.50</td>\n",
       "      <td>🤣</td>\n",
       "    </tr>\n",
       "    <tr>\n",
       "      <th>2</th>\n",
       "      <td>2017-08-27 00:06:12</td>\n",
       "      <td>1.00</td>\n",
       "      <td>🤣</td>\n",
       "    </tr>\n",
       "    <tr>\n",
       "      <th>3</th>\n",
       "      <td>2017-08-27 00:06:17</td>\n",
       "      <td>0.75</td>\n",
       "      <td>🤣</td>\n",
       "    </tr>\n",
       "    <tr>\n",
       "      <th>4</th>\n",
       "      <td>2017-08-27 00:06:27</td>\n",
       "      <td>0.80</td>\n",
       "      <td>🤣</td>\n",
       "    </tr>\n",
       "  </tbody>\n",
       "</table>\n",
       "</div>"
      ],
      "text/plain": [
       "             datetime  tweet_count feels\n",
       "0 2017-08-27 00:05:35         2.00     🤣\n",
       "1 2017-08-27 00:05:59         1.50     🤣\n",
       "2 2017-08-27 00:06:12         1.00     🤣\n",
       "3 2017-08-27 00:06:17         0.75     🤣\n",
       "4 2017-08-27 00:06:27         0.80     🤣"
      ]
     },
     "execution_count": 27,
     "metadata": {},
     "output_type": "execute_result"
    }
   ],
   "source": [
    "# Let's first prepare our data,\n",
    "\n",
    "feelings=tweets.copy()\n",
    "feelings['joy'] = feelings['🤣'] \n",
    "feelings['sorrow'] = feelings['😭'] \n",
    "\n",
    "feelings['datetime'] = pd.to_datetime(feelings['created_at'])\n",
    "feelings = feelings.set_index('datetime')\n",
    "\n",
    "feelings = feelings.resample('1s').sum()\n",
    "feelings  = feelings[(feelings['🤣']>0) | (feelings['😭']>0) ]\n",
    "\n",
    "# next we're going to creat a rolling average\n",
    "\n",
    "jdf = feelings['joy'].rolling('4Min').mean().reset_index()\n",
    "jdf['feels'] = '🤣'\n",
    "jdf = jdf.rename(columns={'joy':'tweet_count'})\n",
    "\n",
    "\n",
    "sdf = feelings['sorrow'].rolling('4Min').mean().reset_index()\n",
    "sdf['feels'] = '😭'\n",
    "sdf = sdf.rename(columns={'sorrow':'tweet_count'})\n",
    "\n",
    "# now we'll combine our datasets\n",
    "df4 = pd.concat([jdf,sdf])\n",
    "df4.head()"
   ]
  },
  {
   "cell_type": "code",
   "execution_count": 28,
   "metadata": {},
   "outputs": [
    {
     "data": {
      "text/html": [
       "<div>\n",
       "<style scoped>\n",
       "    .dataframe tbody tr th:only-of-type {\n",
       "        vertical-align: middle;\n",
       "    }\n",
       "\n",
       "    .dataframe tbody tr th {\n",
       "        vertical-align: top;\n",
       "    }\n",
       "\n",
       "    .dataframe thead th {\n",
       "        text-align: right;\n",
       "    }\n",
       "</style>\n",
       "<table border=\"1\" class=\"dataframe\">\n",
       "  <thead>\n",
       "    <tr style=\"text-align: right;\">\n",
       "      <th></th>\n",
       "      <th>date</th>\n",
       "      <th>count</th>\n",
       "      <th>note</th>\n",
       "    </tr>\n",
       "  </thead>\n",
       "  <tbody>\n",
       "    <tr>\n",
       "      <th>0</th>\n",
       "      <td>2017-08-27 00:15:00</td>\n",
       "      <td>2.2</td>\n",
       "      <td>Fight begins</td>\n",
       "    </tr>\n",
       "    <tr>\n",
       "      <th>1</th>\n",
       "      <td>2017-08-27 00:34:00</td>\n",
       "      <td>2.1</td>\n",
       "      <td>McGregor\\nimpresses\\nearly</td>\n",
       "    </tr>\n",
       "    <tr>\n",
       "      <th>2</th>\n",
       "      <td>2017-08-27 00:52:00</td>\n",
       "      <td>0.1</td>\n",
       "      <td>Fight ends</td>\n",
       "    </tr>\n",
       "  </tbody>\n",
       "</table>\n",
       "</div>"
      ],
      "text/plain": [
       "                  date  count                        note\n",
       "0  2017-08-27 00:15:00    2.2                Fight begins\n",
       "1  2017-08-27 00:34:00    2.1  McGregor\\nimpresses\\nearly\n",
       "2  2017-08-27 00:52:00    0.1                  Fight ends"
      ]
     },
     "execution_count": 28,
     "metadata": {},
     "output_type": "execute_result"
    }
   ],
   "source": [
    "# and Now let's create the annotation dataframe,\n",
    "\n",
    "annotations4 = [['2017-08-27 00:15:00',2.2, 'Fight begins'],\n",
    "               ['2017-08-27 00:34:00',2.1, 'McGregor\\nimpresses\\nearly'],\n",
    "               ['2017-08-27 00:52:00',0.1, 'Fight ends']]\n",
    "               \n",
    "a_df4 = pd.DataFrame(annotations4, columns=['date','count','note'])\n",
    "a_df4"
   ]
  },
  {
   "cell_type": "code",
   "execution_count": 29,
   "metadata": {},
   "outputs": [
    {
     "data": {
      "text/html": [
       "<div>\n",
       "<style scoped>\n",
       "    .dataframe tbody tr th:only-of-type {\n",
       "        vertical-align: middle;\n",
       "    }\n",
       "\n",
       "    .dataframe tbody tr th {\n",
       "        vertical-align: top;\n",
       "    }\n",
       "\n",
       "    .dataframe thead th {\n",
       "        text-align: right;\n",
       "    }\n",
       "</style>\n",
       "<table border=\"1\" class=\"dataframe\">\n",
       "  <thead>\n",
       "    <tr style=\"text-align: right;\">\n",
       "      <th></th>\n",
       "      <th>x</th>\n",
       "      <th>y</th>\n",
       "      <th>class</th>\n",
       "    </tr>\n",
       "  </thead>\n",
       "  <tbody>\n",
       "    <tr>\n",
       "      <th>0</th>\n",
       "      <td>2017-08-27 00:15:00</td>\n",
       "      <td>1.4</td>\n",
       "      <td>A</td>\n",
       "    </tr>\n",
       "    <tr>\n",
       "      <th>1</th>\n",
       "      <td>2017-08-27 00:15:00</td>\n",
       "      <td>2.1</td>\n",
       "      <td>A</td>\n",
       "    </tr>\n",
       "    <tr>\n",
       "      <th>2</th>\n",
       "      <td>2017-08-27 00:25:00</td>\n",
       "      <td>1.7</td>\n",
       "      <td>B</td>\n",
       "    </tr>\n",
       "    <tr>\n",
       "      <th>3</th>\n",
       "      <td>2017-08-27 00:29:00</td>\n",
       "      <td>1.85</td>\n",
       "      <td>B</td>\n",
       "    </tr>\n",
       "    <tr>\n",
       "      <th>4</th>\n",
       "      <td>2017-08-27 00:55:00</td>\n",
       "      <td>0.3</td>\n",
       "      <td>C</td>\n",
       "    </tr>\n",
       "    <tr>\n",
       "      <th>5</th>\n",
       "      <td>2017-08-27 00:55:00</td>\n",
       "      <td>0.8</td>\n",
       "      <td>C</td>\n",
       "    </tr>\n",
       "  </tbody>\n",
       "</table>\n",
       "</div>"
      ],
      "text/plain": [
       "                     x     y class\n",
       "0  2017-08-27 00:15:00   1.4     A\n",
       "1  2017-08-27 00:15:00   2.1     A\n",
       "2  2017-08-27 00:25:00   1.7     B\n",
       "3  2017-08-27 00:29:00  1.85     B\n",
       "4  2017-08-27 00:55:00   0.3     C\n",
       "5  2017-08-27 00:55:00   0.8     C"
      ]
     },
     "execution_count": 29,
     "metadata": {},
     "output_type": "execute_result"
    }
   ],
   "source": [
    "# Finally, let's create our lines dataframe,\n",
    "arrows4=pd.DataFrame({'x':['2017-08-27 00:15:00','2017-08-27 00:15:00','2017-08-27 00:25:00','2017-08-27 00:29:00',\n",
    "                          '2017-08-27 00:55:00','2017-08-27 00:55:00'],\n",
    "                    'y':['1.4','2.1','1.7','1.85','0.3','0.8'],'class':['A','A','B','B','C','C']})\n",
    "arrows4"
   ]
  },
  {
   "cell_type": "code",
   "execution_count": 30,
   "metadata": {},
   "outputs": [
    {
     "data": {
      "text/html": [
       "\n",
       "<div id=\"altair-viz-f01eb925918948da86ba83c4e5009c72\"></div>\n",
       "<script type=\"text/javascript\">\n",
       "  (function(spec, embedOpt){\n",
       "    const outputDiv = document.getElementById(\"altair-viz-f01eb925918948da86ba83c4e5009c72\");\n",
       "    const paths = {\n",
       "      \"vega\": \"https://cdn.jsdelivr.net/npm//vega@5?noext\",\n",
       "      \"vega-lib\": \"https://cdn.jsdelivr.net/npm//vega-lib?noext\",\n",
       "      \"vega-lite\": \"https://cdn.jsdelivr.net/npm//vega-lite@4.0.2?noext\",\n",
       "      \"vega-embed\": \"https://cdn.jsdelivr.net/npm//vega-embed@6?noext\",\n",
       "    };\n",
       "\n",
       "    function loadScript(lib) {\n",
       "      return new Promise(function(resolve, reject) {\n",
       "        var s = document.createElement('script');\n",
       "        s.src = paths[lib];\n",
       "        s.async = true;\n",
       "        s.onload = () => resolve(paths[lib]);\n",
       "        s.onerror = () => reject(`Error loading script: ${paths[lib]}`);\n",
       "        document.getElementsByTagName(\"head\")[0].appendChild(s);\n",
       "      });\n",
       "    }\n",
       "\n",
       "    function showError(err) {\n",
       "      outputDiv.innerHTML = `<div class=\"error\" style=\"color:red;\">${err}</div>`;\n",
       "      throw err;\n",
       "    }\n",
       "\n",
       "    function displayChart(vegaEmbed) {\n",
       "      vegaEmbed(outputDiv, spec, embedOpt)\n",
       "        .catch(err => showError(`Javascript Error: ${err.message}<br>This usually means there's a typo in your chart specification. See the javascript console for the full traceback.`));\n",
       "    }\n",
       "\n",
       "    if(typeof define === \"function\" && define.amd) {\n",
       "      requirejs.config({paths});\n",
       "      require([\"vega-embed\"], displayChart, err => showError(`Error loading script: ${err.message}`));\n",
       "    } else if (typeof vegaEmbed === \"function\") {\n",
       "      displayChart(vegaEmbed);\n",
       "    } else {\n",
       "      loadScript(\"vega\")\n",
       "        .then(() => loadScript(\"vega-lite\"))\n",
       "        .then(() => loadScript(\"vega-embed\"))\n",
       "        .catch(showError)\n",
       "        .then(() => displayChart(vegaEmbed));\n",
       "    }\n",
       "  })({\"config\": {\"view\": {\"continuousWidth\": 400, \"continuousHeight\": 300, \"stroke\": null}, \"title\": {\"anchor\": \"start\", \"fontSize\": 18, \"fontWeight\": \"bold\"}}, \"layer\": [{\"data\": {\"url\": \"altair-data-885ee2806d72563508a0fd31100c9ca2.json\", \"format\": {\"type\": \"json\"}}, \"mark\": \"line\", \"encoding\": {\"color\": {\"type\": \"nominal\", \"field\": \"feels\", \"legend\": {\"labelFontSize\": 15, \"legendY\": -15, \"orient\": \"top\", \"title\": null}, \"scale\": {\"range\": [\"#46bcc4\", \"#fc8215\"]}}, \"x\": {\"type\": \"temporal\", \"axis\": {\"domainColor\": \"black\", \"format\": \"%I:%M\", \"labelColor\": \"#a9a9a9\", \"labelFontWeight\": \"bold\", \"tickColor\": \"#dddddd\", \"tickCount\": 5, \"tickMinStep\": 15, \"title\": null}, \"field\": \"datetime\"}, \"y\": {\"type\": \"quantitative\", \"axis\": {\"domainColor\": \"#dddddd\", \"labelColor\": \"#a9a9a9\", \"labelFontWeight\": \"bold\", \"tickColor\": \"#dddddd\", \"tickMinStep\": 0.5, \"title\": \"Four-minute rolling average\", \"titleFontSize\": 14, \"titleX\": -30}, \"field\": \"tweet_count\"}}, \"width\": 400}, {\"data\": {\"url\": \"altair-data-60fd8cb593aa012ee30ff46de183e9c0.json\", \"format\": {\"type\": \"json\"}}, \"mark\": {\"type\": \"text\", \"align\": \"left\", \"dx\": -20, \"fontSize\": 10, \"fontWeight\": \"bold\", \"lineBreak\": \"\\n\", \"size\": 12}, \"encoding\": {\"text\": {\"type\": \"nominal\", \"field\": \"note\"}, \"x\": {\"type\": \"temporal\", \"field\": \"date\"}, \"y\": {\"type\": \"quantitative\", \"field\": \"count\"}}}, {\"data\": {\"url\": \"altair-data-901260619f4ed97e4c48fdd383f6a3b5.json\", \"format\": {\"type\": \"json\"}}, \"mark\": {\"type\": \"line\", \"color\": \"black\", \"dy\": 5, \"fontSize\": 1}, \"encoding\": {\"detail\": {\"type\": \"nominal\", \"field\": \"class\"}, \"x\": {\"type\": \"temporal\", \"field\": \"x\"}, \"y\": {\"type\": \"quantitative\", \"field\": \"y\"}}}], \"background\": \"#f0f0f0\", \"height\": 250, \"title\": {\"text\": \"Tears were shed-of joy and sorrow\", \"dy\": -20, \"subtitle\": [\"Four-minute rolling average of the number of uses of selected emoji in\", \"sampled tweets during the Mayweather-McGregor fight \"], \"subtitleFontSize\": 13, \"subtitleFontWeight\": \"bold\"}, \"width\": 250, \"$schema\": \"https://vega.github.io/schema/vega-lite/v4.0.2.json\"}, {\"mode\": \"vega-lite\"});\n",
       "</script>"
      ],
      "text/plain": [
       "alt.LayerChart(...)"
      ]
     },
     "execution_count": 30,
     "metadata": {},
     "output_type": "execute_result"
    }
   ],
   "source": [
    "# Now let's create our chart,\n",
    "\n",
    "chrt4=alt.Chart(df4).mark_line().encode(\n",
    "        x=alt.X('datetime',axis=alt.Axis(labelFontWeight='bold',title=None,domainColor='black',tickMinStep=15,tickCount=5,tickColor='#dddddd'\n",
    "                                         ,labelColor='#a9a9a9',format='%I:%M')),\n",
    "        y=alt.Y('tweet_count:Q', axis=alt.Axis(labelFontWeight='bold',domainColor='#dddddd',title='Four-minute rolling average',titleX=-30,titleFontSize=14,tickMinStep=0.5\n",
    "                                              ,tickColor='#dddddd',labelColor='#a9a9a9')),\n",
    "        color=alt.Color('feels:N',legend=alt.Legend(orient='top',title=None,labelFontSize = 15, legendY=-15),\n",
    "                        scale=alt.Scale(range=['#46bcc4','#fc8215']))\n",
    "\n",
    ").properties(width=400)\n",
    "\n",
    "annot4= alt.Chart(a_df4).mark_text(size=12,fontWeight='bold',lineBreak='\\n',align='left',dx=-20,\n",
    "    fontSize = 10).encode(\n",
    "    x=alt.X('date:T'),\n",
    "    y='count:Q',\n",
    "    text=alt.Text('note:N'))\n",
    "\n",
    "arr4=alt.Chart(arrows4).mark_line(color='black',fontSize=1,dy=5).encode(\n",
    "    x='x:T',\n",
    "    y='y:Q',\n",
    "    detail='class'\n",
    ")\n",
    "\n",
    "alt.layer(chrt4, annot4,arr4).configure_title(anchor='start',fontSize=18,fontWeight='bold'\n",
    "                                          ).properties(background='#f0f0f0', title=alt.TitleParams(\n",
    "                                           text=\"Tears were shed-of joy and sorrow\",\n",
    "    subtitle=['Four-minute rolling average of the number of uses of selected emoji in',\n",
    "                                             'sampled tweets during the Mayweather-McGregor fight '],subtitleFontSize=13,\n",
    "                                            subtitleFontWeight='bold', dy=-20)).properties(width=250,height=250).configure_view(stroke=None)"
   ]
  },
  {
   "cell_type": "code",
   "execution_count": 31,
   "metadata": {
    "deletable": false,
    "nbgrader": {
     "checksum": "15cc8435beedc03a96af849bb6eeaac0",
     "grade": true,
     "grade_id": "cell-718ac9b3de0d57a4",
     "locked": false,
     "points": 0,
     "schema_version": 1,
     "solution": true
    }
   },
   "outputs": [],
   "source": [
    "# your solution goes here, use the example above for the sampling and annotation\n",
    "\n",
    "# YOUR CODE HERE\n",
    "#raise NotImplementedError()"
   ]
  },
  {
   "cell_type": "markdown",
   "metadata": {},
   "source": [
    "They laughed. They cried. And they laughed some more. And they cried some more."
   ]
  },
  {
   "cell_type": "markdown",
   "metadata": {},
   "source": [
    "# 2.5 Make your own (part 1-alternative)\n",
    "Propose one *alternative* visualization for one of the article's visualizations. Add a short paragraph describing why your visualization is more *effective* based on principles of perception/cognition. If you feel your visualization is worse, that's ok! Just tell us why. (20 points/ 15 points plot + 5 justification)"
   ]
  },
  {
   "cell_type": "code",
   "execution_count": 32,
   "metadata": {
    "deletable": false,
    "nbgrader": {
     "checksum": "0b9cd943872bb4aa60e5d72eac7e1ed1",
     "grade": true,
     "grade_id": "cell-9b636219159fc577",
     "locked": false,
     "points": 0,
     "schema_version": 1,
     "solution": true
    }
   },
   "outputs": [],
   "source": [
    "# YOUR CODE HERE\n",
    "#raise NotImplementedError()"
   ]
  },
  {
   "cell_type": "code",
   "execution_count": 33,
   "metadata": {},
   "outputs": [
    {
     "data": {
      "text/html": [
       "\n",
       "<div id=\"altair-viz-ec2484853d5444b59ceafea3f3049699\"></div>\n",
       "<script type=\"text/javascript\">\n",
       "  (function(spec, embedOpt){\n",
       "    const outputDiv = document.getElementById(\"altair-viz-ec2484853d5444b59ceafea3f3049699\");\n",
       "    const paths = {\n",
       "      \"vega\": \"https://cdn.jsdelivr.net/npm//vega@5?noext\",\n",
       "      \"vega-lib\": \"https://cdn.jsdelivr.net/npm//vega-lib?noext\",\n",
       "      \"vega-lite\": \"https://cdn.jsdelivr.net/npm//vega-lite@4.0.2?noext\",\n",
       "      \"vega-embed\": \"https://cdn.jsdelivr.net/npm//vega-embed@6?noext\",\n",
       "    };\n",
       "\n",
       "    function loadScript(lib) {\n",
       "      return new Promise(function(resolve, reject) {\n",
       "        var s = document.createElement('script');\n",
       "        s.src = paths[lib];\n",
       "        s.async = true;\n",
       "        s.onload = () => resolve(paths[lib]);\n",
       "        s.onerror = () => reject(`Error loading script: ${paths[lib]}`);\n",
       "        document.getElementsByTagName(\"head\")[0].appendChild(s);\n",
       "      });\n",
       "    }\n",
       "\n",
       "    function showError(err) {\n",
       "      outputDiv.innerHTML = `<div class=\"error\" style=\"color:red;\">${err}</div>`;\n",
       "      throw err;\n",
       "    }\n",
       "\n",
       "    function displayChart(vegaEmbed) {\n",
       "      vegaEmbed(outputDiv, spec, embedOpt)\n",
       "        .catch(err => showError(`Javascript Error: ${err.message}<br>This usually means there's a typo in your chart specification. See the javascript console for the full traceback.`));\n",
       "    }\n",
       "\n",
       "    if(typeof define === \"function\" && define.amd) {\n",
       "      requirejs.config({paths});\n",
       "      require([\"vega-embed\"], displayChart, err => showError(`Error loading script: ${err.message}`));\n",
       "    } else if (typeof vegaEmbed === \"function\") {\n",
       "      displayChart(vegaEmbed);\n",
       "    } else {\n",
       "      loadScript(\"vega\")\n",
       "        .then(() => loadScript(\"vega-lite\"))\n",
       "        .then(() => loadScript(\"vega-embed\"))\n",
       "        .catch(showError)\n",
       "        .then(() => displayChart(vegaEmbed));\n",
       "    }\n",
       "  })({\"config\": {\"view\": {\"continuousWidth\": 400, \"continuousHeight\": 300, \"stroke\": null}, \"title\": {\"anchor\": \"middle\", \"fontSize\": 20, \"fontWeight\": \"bold\"}}, \"layer\": [{\"data\": {\"url\": \"altair-data-82b3c3b3fc440dfbeb0edabb5ebdb21c.json\", \"format\": {\"type\": \"json\"}}, \"mark\": {\"type\": \"area\", \"opacity\": 0.7}, \"encoding\": {\"color\": {\"type\": \"nominal\", \"field\": \"status\", \"scale\": {\"range\": [\"#e04d46\", \"#56c0c4\"]}}, \"x\": {\"type\": \"temporal\", \"axis\": {\"domain\": false, \"tickSize\": 0, \"title\": null}, \"field\": \"datetime\"}, \"y\": {\"type\": \"quantitative\", \"axis\": {\"labelColor\": \"#a9a9a9\", \"tickColor\": \"#a9a9a9\", \"tickMinStep\": 0.5, \"title\": \"Four-minute rolling average\", \"titleFontSize\": 14, \"titleX\": -30}, \"field\": \"tweet_count\", \"stack\": null}}, \"selection\": {\"selector001\": {\"type\": \"interval\", \"bind\": \"scales\", \"encodings\": [\"x\", \"y\"]}}}, {\"data\": {\"url\": \"altair-data-8c9cae4286920ec6120fefcab5f292d2.json\", \"format\": {\"type\": \"json\"}}, \"mark\": {\"type\": \"text\", \"align\": \"left\", \"dx\": -20, \"fontSize\": 10, \"fontWeight\": \"bold\", \"lineBreak\": \"\\n\", \"size\": 12}, \"encoding\": {\"text\": {\"type\": \"nominal\", \"field\": \"note\"}, \"x\": {\"type\": \"temporal\", \"field\": \"date\"}, \"y\": {\"type\": \"quantitative\", \"field\": \"count\"}}}, {\"data\": {\"url\": \"altair-data-057fdf331951e94a100a80fd746c2a73.json\", \"format\": {\"type\": \"json\"}}, \"mark\": {\"type\": \"line\", \"color\": \"black\", \"dy\": 5, \"fontSize\": 1}, \"encoding\": {\"detail\": {\"type\": \"nominal\", \"field\": \"class\"}, \"x\": {\"type\": \"temporal\", \"field\": \"x\"}, \"y\": {\"type\": \"quantitative\", \"field\": \"y\"}}}], \"background\": \"#f0f0f0\", \"title\": {\"text\": \"Much hype, some boredom\", \"dy\": -7, \"subtitle\": [\"Four-minute rolling average of the number of uses of selected emoji in sampled tweets during the Mayweather-McGregor fight \"], \"subtitleFontSize\": 13, \"subtitleFontWeight\": \"bold\"}, \"width\": 750, \"$schema\": \"https://vega.github.io/schema/vega-lite/v4.0.2.json\"}, {\"mode\": \"vega-lite\"});\n",
       "</script>"
      ],
      "text/plain": [
       "alt.LayerChart(...)"
      ]
     },
     "execution_count": 33,
     "metadata": {},
     "output_type": "execute_result"
    }
   ],
   "source": [
    "chrt5=alt.Chart(df3).mark_area(opacity=0.7).encode(\n",
    "    alt.X('datetime:T',\n",
    "        axis=alt.Axis(domain=False, tickSize=0,title=None)\n",
    "    ),\n",
    "    alt.Y('tweet_count:Q', stack=None,axis=alt.Axis(title='Four-minute rolling average',titleX=-30,titleFontSize=14,\n",
    "                                                               tickMinStep=0.5,tickColor='#a9a9a9',labelColor='#a9a9a9')),\n",
    "    alt.Color('status:N',\n",
    "        scale=alt.Scale(range=['#e04d46','#56c0c4'])\n",
    "    )\n",
    ").interactive()\n",
    "\n",
    "\n",
    "annot3= alt.Chart(a_df3).mark_text(size=12,fontWeight='bold',lineBreak='\\n',align='left',dx=-20,\n",
    "    fontSize = 10).encode(\n",
    "    x=alt.X('date:T'),\n",
    "    y='count:Q',\n",
    "    text=alt.Text('note:N'))\n",
    "\n",
    "arr3=alt.Chart(arrows3).mark_line(color='black',fontSize=1,dy=5).encode(\n",
    "    x='x:T',\n",
    "    y='y:Q',\n",
    "    detail='class'\n",
    ")\n",
    "\n",
    "alt.layer(chrt5, annot3,arr3).configure_title(anchor='middle',fontSize=20,fontWeight='bold'\n",
    "                                          ).properties(background='#f0f0f0', title=alt.TitleParams(\n",
    "                                           text=\"Much hype, some boredom\",\n",
    "    subtitle=['Four-minute rolling average of the number of uses of selected emoji in sampled tweets during the Mayweather-McGregor fight '],subtitleFontSize=13,\n",
    "                                            subtitleFontWeight='bold', dy=-7)).properties(width=750).configure_view(stroke=None)"
   ]
  },
  {
   "cell_type": "markdown",
   "metadata": {},
   "source": [
    "I chose to represent the \"Much hype, some boredom\" chart by using interactive streamgraph chart. I think it will be more effective than the original one because the interactive feature will enable viewers to use the zoom in / out and drag the chart in all directions which will help them view the chart details up to fractions of minutes span, which is specially useful in case readers remember a specific time during the match that they want to know people's reaction about. The original visualization displays the same data, however, spotting the trend in a specific minute is very hard due to using 15 minutes intervals in X-Axis which can make it hard to spot an exact minute.\n",
    "\n",
    "I also used lower opacity so that it would be easy to see the details of overlapping parts. For the point @ 12:25, it might seem to be hard to read at the first sight, but it will be clear by zooming in."
   ]
  },
  {
   "cell_type": "markdown",
   "metadata": {},
   "source": [
    "# 2.6 Make your own (part 2-novel)\n",
    "Propose a *new* visualization to complement a part of the article. Add a short paragraph justifying your decisions in terms of Perception/Cognition processes. If you feel your visualization is worse, that's ok! Just tell us why. (20 points/ 15 points plot + 5 justification)"
   ]
  },
  {
   "cell_type": "code",
   "execution_count": 34,
   "metadata": {
    "deletable": false,
    "nbgrader": {
     "checksum": "8448ae695c68f98d279e3e9fba50f028",
     "grade": true,
     "grade_id": "cell-f05fa16510d6f918",
     "locked": false,
     "points": 0,
     "schema_version": 1,
     "solution": true
    }
   },
   "outputs": [],
   "source": [
    "# YOUR CODE HERE\n",
    "#raise NotImplementedError()"
   ]
  },
  {
   "cell_type": "markdown",
   "metadata": {},
   "source": [
    "I'm going to visualize the emojis '👏' &  '👊' as indicators of how much people were satisfied during/after the match."
   ]
  },
  {
   "cell_type": "code",
   "execution_count": 35,
   "metadata": {
    "scrolled": true
   },
   "outputs": [
    {
     "data": {
      "text/plain": [
       "Index(['created_at', 'emojis', 'id', 'link', 'retweeted', 'screen_name',\n",
       "       'text', '☘️', '🇮🇪', '🍀', '💸', '🤑', '💰', '💵', '😴', '😂', '🤣', '🥊', '👊',\n",
       "       '👏', '💪', '🔥', '😭', 'irish_pride', 'money_team'],\n",
       "      dtype='object')"
      ]
     },
     "execution_count": 35,
     "metadata": {},
     "output_type": "execute_result"
    }
   ],
   "source": [
    "tweets.columns"
   ]
  },
  {
   "cell_type": "code",
   "execution_count": 36,
   "metadata": {},
   "outputs": [
    {
     "data": {
      "text/html": [
       "<div>\n",
       "<style scoped>\n",
       "    .dataframe tbody tr th:only-of-type {\n",
       "        vertical-align: middle;\n",
       "    }\n",
       "\n",
       "    .dataframe tbody tr th {\n",
       "        vertical-align: top;\n",
       "    }\n",
       "\n",
       "    .dataframe thead th {\n",
       "        text-align: right;\n",
       "    }\n",
       "</style>\n",
       "<table border=\"1\" class=\"dataframe\">\n",
       "  <thead>\n",
       "    <tr style=\"text-align: right;\">\n",
       "      <th></th>\n",
       "      <th>datetime</th>\n",
       "      <th>tweet_count</th>\n",
       "      <th>hands</th>\n",
       "    </tr>\n",
       "  </thead>\n",
       "  <tbody>\n",
       "    <tr>\n",
       "      <th>0</th>\n",
       "      <td>2017-08-27 00:05:35</td>\n",
       "      <td>0.000000</td>\n",
       "      <td>👏</td>\n",
       "    </tr>\n",
       "    <tr>\n",
       "      <th>1</th>\n",
       "      <td>2017-08-27 00:05:36</td>\n",
       "      <td>0.000000</td>\n",
       "      <td>👏</td>\n",
       "    </tr>\n",
       "    <tr>\n",
       "      <th>2</th>\n",
       "      <td>2017-08-27 00:05:37</td>\n",
       "      <td>1.333333</td>\n",
       "      <td>👏</td>\n",
       "    </tr>\n",
       "    <tr>\n",
       "      <th>3</th>\n",
       "      <td>2017-08-27 00:05:39</td>\n",
       "      <td>1.000000</td>\n",
       "      <td>👏</td>\n",
       "    </tr>\n",
       "    <tr>\n",
       "      <th>4</th>\n",
       "      <td>2017-08-27 00:05:40</td>\n",
       "      <td>0.800000</td>\n",
       "      <td>👏</td>\n",
       "    </tr>\n",
       "  </tbody>\n",
       "</table>\n",
       "</div>"
      ],
      "text/plain": [
       "             datetime  tweet_count hands\n",
       "0 2017-08-27 00:05:35     0.000000     👏\n",
       "1 2017-08-27 00:05:36     0.000000     👏\n",
       "2 2017-08-27 00:05:37     1.333333     👏\n",
       "3 2017-08-27 00:05:39     1.000000     👏\n",
       "4 2017-08-27 00:05:40     0.800000     👏"
      ]
     },
     "execution_count": 36,
     "metadata": {},
     "output_type": "execute_result"
    }
   ],
   "source": [
    "# Let's Prepare our dataset,\n",
    "\n",
    "performance=tweets.copy()\n",
    "performance['clap'] = performance['👏'] \n",
    "performance['fist'] = performance['👊'] \n",
    "\n",
    "performance['datetime'] = pd.to_datetime(performance['created_at'])\n",
    "performance = performance.set_index('datetime')\n",
    "\n",
    "performance = performance.resample('1s').sum()\n",
    "performance  = performance[(performance['👏']>0) | (performance['👊']>0) ]\n",
    "\n",
    "# next we're going to creat a rolling average\n",
    "\n",
    "cldf = performance['clap'].rolling('4Min').mean().reset_index()\n",
    "cldf['hands'] = '👏'\n",
    "cldf = cldf.rename(columns={'clap':'tweet_count'})\n",
    "\n",
    "\n",
    "fsdf = performance['fist'].rolling('4Min').mean().reset_index()\n",
    "fsdf['hands'] = '👊'\n",
    "fsdf = fsdf.rename(columns={'fist':'tweet_count'})\n",
    "\n",
    "# now we'll combine our datasets\n",
    "df6 = pd.concat([cldf,fsdf])\n",
    "df6.head()"
   ]
  },
  {
   "cell_type": "code",
   "execution_count": 37,
   "metadata": {},
   "outputs": [
    {
     "data": {
      "text/html": [
       "<div>\n",
       "<style scoped>\n",
       "    .dataframe tbody tr th:only-of-type {\n",
       "        vertical-align: middle;\n",
       "    }\n",
       "\n",
       "    .dataframe tbody tr th {\n",
       "        vertical-align: top;\n",
       "    }\n",
       "\n",
       "    .dataframe thead th {\n",
       "        text-align: right;\n",
       "    }\n",
       "</style>\n",
       "<table border=\"1\" class=\"dataframe\">\n",
       "  <thead>\n",
       "    <tr style=\"text-align: right;\">\n",
       "      <th></th>\n",
       "      <th>date</th>\n",
       "      <th>count</th>\n",
       "      <th>note</th>\n",
       "    </tr>\n",
       "  </thead>\n",
       "  <tbody>\n",
       "    <tr>\n",
       "      <th>0</th>\n",
       "      <td>2017-08-27 00:15:00</td>\n",
       "      <td>2.2</td>\n",
       "      <td>Fight begins</td>\n",
       "    </tr>\n",
       "    <tr>\n",
       "      <th>1</th>\n",
       "      <td>2017-08-27 00:42:00</td>\n",
       "      <td>2.3</td>\n",
       "      <td>The match got\\nreally hot here</td>\n",
       "    </tr>\n",
       "    <tr>\n",
       "      <th>2</th>\n",
       "      <td>2017-08-27 00:48:00</td>\n",
       "      <td>2.9</td>\n",
       "      <td>The spike in clapping\\nby the end of the match...</td>\n",
       "    </tr>\n",
       "  </tbody>\n",
       "</table>\n",
       "</div>"
      ],
      "text/plain": [
       "                  date  count  \\\n",
       "0  2017-08-27 00:15:00    2.2   \n",
       "1  2017-08-27 00:42:00    2.3   \n",
       "2  2017-08-27 00:48:00    2.9   \n",
       "\n",
       "                                                note  \n",
       "0                                       Fight begins  \n",
       "1                     The match got\\nreally hot here  \n",
       "2  The spike in clapping\\nby the end of the match...  "
      ]
     },
     "execution_count": 37,
     "metadata": {},
     "output_type": "execute_result"
    }
   ],
   "source": [
    "\n",
    "annotations6 = [['2017-08-27 00:15:00',2.2, 'Fight begins'],\n",
    "               ['2017-08-27 00:42:00',2.3, 'The match got\\nreally hot here'],\n",
    "               ['2017-08-27 00:48:00',2.9, 'The spike in clapping\\nby the end of the match shows\\nhow a great match it was!']]\n",
    "               \n",
    "a_df6 = pd.DataFrame(annotations6, columns=['date','count','note'])\n",
    "a_df6"
   ]
  },
  {
   "cell_type": "code",
   "execution_count": 38,
   "metadata": {},
   "outputs": [
    {
     "data": {
      "text/html": [
       "\n",
       "<div id=\"altair-viz-8159e5f28de74ad9bafa4f40f1895ccb\"></div>\n",
       "<script type=\"text/javascript\">\n",
       "  (function(spec, embedOpt){\n",
       "    const outputDiv = document.getElementById(\"altair-viz-8159e5f28de74ad9bafa4f40f1895ccb\");\n",
       "    const paths = {\n",
       "      \"vega\": \"https://cdn.jsdelivr.net/npm//vega@5?noext\",\n",
       "      \"vega-lib\": \"https://cdn.jsdelivr.net/npm//vega-lib?noext\",\n",
       "      \"vega-lite\": \"https://cdn.jsdelivr.net/npm//vega-lite@4.0.2?noext\",\n",
       "      \"vega-embed\": \"https://cdn.jsdelivr.net/npm//vega-embed@6?noext\",\n",
       "    };\n",
       "\n",
       "    function loadScript(lib) {\n",
       "      return new Promise(function(resolve, reject) {\n",
       "        var s = document.createElement('script');\n",
       "        s.src = paths[lib];\n",
       "        s.async = true;\n",
       "        s.onload = () => resolve(paths[lib]);\n",
       "        s.onerror = () => reject(`Error loading script: ${paths[lib]}`);\n",
       "        document.getElementsByTagName(\"head\")[0].appendChild(s);\n",
       "      });\n",
       "    }\n",
       "\n",
       "    function showError(err) {\n",
       "      outputDiv.innerHTML = `<div class=\"error\" style=\"color:red;\">${err}</div>`;\n",
       "      throw err;\n",
       "    }\n",
       "\n",
       "    function displayChart(vegaEmbed) {\n",
       "      vegaEmbed(outputDiv, spec, embedOpt)\n",
       "        .catch(err => showError(`Javascript Error: ${err.message}<br>This usually means there's a typo in your chart specification. See the javascript console for the full traceback.`));\n",
       "    }\n",
       "\n",
       "    if(typeof define === \"function\" && define.amd) {\n",
       "      requirejs.config({paths});\n",
       "      require([\"vega-embed\"], displayChart, err => showError(`Error loading script: ${err.message}`));\n",
       "    } else if (typeof vegaEmbed === \"function\") {\n",
       "      displayChart(vegaEmbed);\n",
       "    } else {\n",
       "      loadScript(\"vega\")\n",
       "        .then(() => loadScript(\"vega-lite\"))\n",
       "        .then(() => loadScript(\"vega-embed\"))\n",
       "        .catch(showError)\n",
       "        .then(() => displayChart(vegaEmbed));\n",
       "    }\n",
       "  })({\"config\": {\"view\": {\"continuousWidth\": 400, \"continuousHeight\": 300, \"stroke\": null}, \"title\": {\"anchor\": \"start\", \"fontSize\": 18, \"fontWeight\": \"bold\"}}, \"layer\": [{\"data\": {\"url\": \"altair-data-bd4f573ce450606bc05e73d6cdb78dbd.json\", \"format\": {\"type\": \"json\"}}, \"mark\": \"line\", \"encoding\": {\"color\": {\"type\": \"nominal\", \"field\": \"hands\", \"legend\": {\"labelFontSize\": 15, \"legendY\": -15, \"orient\": \"top\", \"title\": null}}, \"x\": {\"type\": \"temporal\", \"axis\": {\"domainColor\": \"black\", \"format\": \"%I:%M\", \"labelColor\": \"#a9a9a9\", \"tickColor\": \"#a9a9a9\", \"tickCount\": 5, \"tickMinStep\": 15, \"title\": null}, \"field\": \"datetime\"}, \"y\": {\"type\": \"quantitative\", \"axis\": {\"labelColor\": \"#a9a9a9\", \"tickColor\": \"#a9a9a9\", \"tickMinStep\": 0.5, \"title\": \"Four-minute rolling average\", \"titleFontSize\": 14, \"titleX\": -30}, \"field\": \"tweet_count\"}}, \"width\": 400}, {\"data\": {\"url\": \"altair-data-2bbdf4a8655d8ba3576ff33cda209f39.json\", \"format\": {\"type\": \"json\"}}, \"mark\": {\"type\": \"text\", \"align\": \"left\", \"dx\": -20, \"fontSize\": 10, \"fontWeight\": \"bold\", \"lineBreak\": \"\\n\", \"size\": 12}, \"encoding\": {\"text\": {\"type\": \"nominal\", \"field\": \"note\"}, \"x\": {\"type\": \"temporal\", \"field\": \"date\"}, \"y\": {\"type\": \"quantitative\", \"field\": \"count\"}}}], \"background\": \"#f0f0f0\", \"height\": 250, \"title\": {\"text\": \"People's Impression about the Match\", \"dy\": -20, \"subtitle\": [\"Four-minute rolling average of the number of uses of selected emoji in\", \"sampled tweets during the Mayweather-McGregor fight \"], \"subtitleFontSize\": 13, \"subtitleFontWeight\": \"bold\"}, \"width\": 250, \"$schema\": \"https://vega.github.io/schema/vega-lite/v4.0.2.json\"}, {\"mode\": \"vega-lite\"});\n",
       "</script>"
      ],
      "text/plain": [
       "alt.LayerChart(...)"
      ]
     },
     "execution_count": 38,
     "metadata": {},
     "output_type": "execute_result"
    }
   ],
   "source": [
    "# Now let's create our chart,\n",
    "\n",
    "chrt6=alt.Chart(df6).mark_line().encode(\n",
    "        x=alt.X('datetime',axis=alt.Axis(title=None,domainColor='black',tickMinStep=15,tickCount=5,tickColor='#a9a9a9'\n",
    "                                         ,labelColor='#a9a9a9',format='%I:%M')),\n",
    "        y=alt.Y('tweet_count:Q', axis=alt.Axis(title='Four-minute rolling average',titleX=-30,titleFontSize=14,tickMinStep=0.5\n",
    "                                              ,tickColor='#a9a9a9',labelColor='#a9a9a9')),\n",
    "        color=alt.Color('hands:N',legend=alt.Legend(orient='top',title=None,labelFontSize = 15, legendY=-15))\n",
    "                        \n",
    "\n",
    ").properties(width=400)\n",
    "\n",
    "annot6= alt.Chart(a_df6).mark_text(size=12,fontWeight='bold',lineBreak='\\n',align='left',dx=-20,\n",
    "    fontSize = 10).encode(\n",
    "    x=alt.X('date:T'),\n",
    "    y='count:Q',\n",
    "    text=alt.Text('note:N'))\n",
    "\n",
    "arr6=alt.Chart(arrows4).mark_line(color='black',fontSize=1,dy=5).encode(\n",
    "    x='x:T',\n",
    "    y='y:Q',\n",
    "    detail='class'\n",
    ")\n",
    "\n",
    "alt.layer(chrt6, annot6).configure_title(anchor='start',fontSize=18,fontWeight='bold'\n",
    "                                          ).properties(background='#f0f0f0', title=alt.TitleParams(\n",
    "                                           text=\"People's Impression about the Match\",\n",
    "    subtitle=['Four-minute rolling average of the number of uses of selected emoji in',\n",
    "                                             'sampled tweets during the Mayweather-McGregor fight '],subtitleFontSize=13,\n",
    "                                            subtitleFontWeight='bold', dy=-20)).properties(width=250,height=250).configure_view(stroke=None)"
   ]
  },
  {
   "cell_type": "markdown",
   "metadata": {},
   "source": [
    "I tried to match the style of 538 in visualizations here, so i used the same channels with different emojis.\n",
    "I believe this will make it easier for readers to compare between the 4 similar graphs in the article for simple analyses.\n",
    "\n",
    "\n",
    "This chart can be used in the last paragraph of the article to show how people were satisfied with the match in general, regardless whose fan they are.\n",
    "\n",
    "In terms of perception and cognition, i think the vis. is good enough (expressive) as it gives the readers high level information about the emojis trends during the match. However, it doesn't provide detailed information about deeper levels (like the trends in a certain minute) because it lacks interactivity (which was provided in the previous question). Because such a level of details would be hard to display in a static vis.\n",
    "\n",
    "One concern i have on my visualization is that the 2 emojis represented are not indicating opposite feelings - unlike other visualizations in the article- my target here was to display the level of excitement using 2 different emojis."
   ]
  },
  {
   "cell_type": "code",
   "execution_count": null,
   "metadata": {},
   "outputs": [],
   "source": []
  }
 ],
 "metadata": {
  "coursera": {
   "schema_names": [
    "mads_information_visualization_i_v3_assignment4"
   ]
  },
  "kernelspec": {
   "display_name": "Python 3",
   "language": "python",
   "name": "python3"
  },
  "language_info": {
   "codemirror_mode": {
    "name": "ipython",
    "version": 3
   },
   "file_extension": ".py",
   "mimetype": "text/x-python",
   "name": "python",
   "nbconvert_exporter": "python",
   "pygments_lexer": "ipython3",
   "version": "3.7.3"
  },
  "toc": {
   "colors": {
    "hover_highlight": "#DAA520",
    "running_highlight": "#FF0000",
    "selected_highlight": "#FFD700"
   },
   "moveMenuLeft": true,
   "nav_menu": {
    "height": "300px",
    "width": "252px"
   },
   "navigate_menu": true,
   "number_sections": false,
   "sideBar": false,
   "threshold": 4,
   "toc_cell": false,
   "toc_position": {
    "height": "259px",
    "left": "1px",
    "right": "20px",
    "top": "110px",
    "width": "212px"
   },
   "toc_section_display": "none",
   "toc_window_display": true,
   "widenNotebook": false
  }
 },
 "nbformat": 4,
 "nbformat_minor": 2
}
